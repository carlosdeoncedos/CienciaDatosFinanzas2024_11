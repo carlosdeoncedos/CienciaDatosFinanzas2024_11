{
 "cells": [
  {
   "cell_type": "markdown",
   "id": "4f00cda3-23f2-4ac3-ab9f-b4e627ee1216",
   "metadata": {},
   "source": [
    "# <font color='#2B17B0'>CIENCIA DE DATOS APLICADA A FINANZAS</font>\n",
    "Sesión 9, 2024-11-05<br>\n",
    "Carlos Crespo Elizondo, MSF<br>\n",
    "EGADE BUSINESS SCHOOL"
   ]
  },
  {
   "cell_type": "markdown",
   "id": "3bae345e-46ea-4170-af09-dc42ea3c0beb",
   "metadata": {},
   "source": [
    "## <font color='#2B17B0'>COMENTARIOS INICIALES</font>"
   ]
  },
  {
   "cell_type": "markdown",
   "id": "65d6bbc6-150d-4462-8cd9-2a6ad3552886",
   "metadata": {
    "tags": []
   },
   "source": [
    "### Contacto"
   ]
  },
  {
   "cell_type": "markdown",
   "id": "03ed6c79-41a6-4fdc-8934-20a1f0ac0838",
   "metadata": {},
   "source": [
    "email: carlos@oncedos.com"
   ]
  },
  {
   "cell_type": "markdown",
   "id": "f796d149-66aa-4d65-af76-c9eb7d2f14e9",
   "metadata": {
    "tags": []
   },
   "source": [
    "### Asesorías"
   ]
  },
  {
   "cell_type": "markdown",
   "id": "b2e45669-3af7-4036-aa18-eb93040b0768",
   "metadata": {},
   "source": [
    "Bajo previa cita con un día de anticipación:"
   ]
  },
  {
   "cell_type": "markdown",
   "id": "2936f960-b77c-4887-96a5-d2fb4295124d",
   "metadata": {
    "tags": []
   },
   "source": [
    "### Github:  Clonar repositorio de la clase\n",
    "URL del repositorio:<br>\n",
    "https://github.com/carlosdeoncedos/CienciaDatosFinanzas2024_11<br>\n",
    "\n",
    "Para verificar si GitHub está instaldo corre el siguiente comando desde la ventana de terminal:\n",
    "`git --version`.  Si está instalado, arrojará la versión instalada.\n",
    "\n"
   ]
  },
  {
   "cell_type": "markdown",
   "id": "a0979433-3f35-42a6-bfe7-d0db17931b23",
   "metadata": {
    "tags": []
   },
   "source": [
    "#### Instalar GitHub\n",
    "En caso de no tener Github instalado:"
   ]
  },
  {
   "cell_type": "markdown",
   "id": "7217e750-ca4f-4916-8eb7-563eb76438a5",
   "metadata": {
    "tags": []
   },
   "source": [
    "##### **MAC OS:**\n",
    "1. Abre la Terminal en tu Mac.\n",
    "1. Ejecuta el siguiente comando para instalar Homebrew:<br>\n",
    "    `/bin/bash -c \"$(curl -fsSL https://raw.githubusercontent.com/Homebrew/install/HEAD/install.sh)\"`\n",
    "1. Ejecuta el siguiente comando para instalar Git usando Homebrew:\n",
    "    `brew install git`"
   ]
  },
  {
   "cell_type": "markdown",
   "id": "d0675f17-c4f6-45b4-a960-cacca7f10c42",
   "metadata": {},
   "source": [
    "##### **WINDOWS**:\n",
    "1. Ve al sitio web oficial de Git: https://git-scm.com/download/win\n",
    "1. La descarga del instalador de Git para Windows debería comenzar automáticamente. Si no es así, haz clic en el enlace \"click here to download manually\" (haz clic aquí para descargar manualmente) en la página.\n",
    "1. Ejecuta el archivo de instalación que descargaste en el Paso 1.\n",
    "1. Selecciona las opciones de instalación que prefieras y sigue las instrucciones del instalador. Si no estás seguro de qué opciones elegir, las predeterminadas suelen ser adecuadas para la mayoría de los usuarios.\n",
    "1. Haz clic en \"Install\" (Instalar) para comenzar la instalación.\n",
    "1. Una vez que se complete la instalación, Git estará instalado en tu computadora con Windows."
   ]
  },
  {
   "cell_type": "markdown",
   "id": "3ad5053f-61e7-48e5-8caf-c9c4fc8b15f0",
   "metadata": {},
   "source": [
    "#### **CREAR USUARIO**\n",
    "1. Entra a la página https://github.com\n",
    "1. En la página principal de GitHub, localiza el formulario de registro.\n",
    "1. Ingresa un nombre de usuario único. GitHub verificará si el nombre de usuario está disponible.\n",
    "1. Ingresa una dirección de correo electrónico válida. Asegúrate de que sea una dirección de correo electrónico a la que tengas acceso, ya que GitHub enviará un correo electrónico de verificación.\n",
    "1. Crea una contraseña segura siguiendo las pautas de GitHub. La contraseña debe tener al menos 8 caracteres y debe incluir letras mayúsculas y minúsculas, números y símbolos.\n",
    "1. Haz clic en el botón \"Sign up for GitHub\" (Regístrate en GitHub) para continuar.\n",
    "1. GitHub te enviará un correo electrónico de verificación a la dirección de correo electrónico que proporcionaste.\n",
    "1. Abre el correo electrónico y haz clic en el enlace de verificación para confirmar tu dirección de correo electrónico y continuar con el proceso de registro.\n",
    "1. GitHub te mostrará diferentes planes disponibles. Elige el plan gratuito y haz clic en \"Continue\". El plan gratuito te permitirá crear repositorios públicos ilimitados y colaborar en repositorios privados.\n",
    "1. GitHub te ofrecerá la opción de personalizar tu experiencia proporcionando información adicional sobre tus intereses y preferencias. Puedes completar esta información si lo deseas, pero no es obligatorio.\n",
    "1. Una vez que hayas proporcionado la información que desees, haz clic en \"Submit\" (Enviar) o \"Skip this step\" (Omitir este paso) si prefieres no proporcionar esta información."
   ]
  },
  {
   "cell_type": "markdown",
   "id": "511f7475-7aa4-4140-9cf4-99a1e9adf396",
   "metadata": {},
   "source": [
    "#### Clonar repositorio"
   ]
  },
  {
   "cell_type": "markdown",
   "id": "51c51a7b-5710-46b4-a8b5-d5b9bc35531e",
   "metadata": {},
   "source": [
    "1. Navega a la página principal del repositorio de la clase (Ver URL).\n",
    "1. Haz clic en el botón verde \"Code\" cerca de la esquina superior derecha de la página.\n",
    "1. En el menú desplegable, elige entre HTTPS o SSH en \"Clone\". Si no estás seguro de cuál usar, se recomienda HTTPS para la mayoría de los usuarios debido a su simplicidad y compatibilidad. Copia la URL proporcionada.\n",
    "1. Abre tu terminal (en macOS o Linux) o Command Prompt (en Windows) en la computadora y ve al directorio donde deseas clonar el repositorio\n",
    "1. Ejecutar el siguiente comando en tu terminal/Command Prompt (en Windows) para clonar el repositorio:<br>\n",
    "    `git clone https://github.com/carlosdeoncedos/CienciaDatosFinanzas2024_11`"
   ]
  },
  {
   "cell_type": "markdown",
   "id": "eb3bd03c-14d4-4d42-8793-bd3cc09da32c",
   "metadata": {
    "tags": []
   },
   "source": [
    "## <font color='#2B17B0'>LIBRERIAS</font>"
   ]
  },
  {
   "cell_type": "code",
   "execution_count": 1,
   "id": "f9b66d2b-cde6-4eba-ac3b-c08c442eb4bd",
   "metadata": {},
   "outputs": [],
   "source": [
    "import pandas as pd\n",
    "import matplotlib.pyplot as plt\n",
    "import seaborn as sns\n",
    "import numpy as np\n",
    "\n",
    "sns.set_style('darkgrid')"
   ]
  },
  {
   "cell_type": "markdown",
   "id": "7015f9d8-235a-4923-8da5-9bc60cec3c6b",
   "metadata": {
    "tags": []
   },
   "source": [
    "## <font color='#2B17B0'>RETORNOS</font>"
   ]
  },
  {
   "cell_type": "markdown",
   "id": "210001b6-78dd-4b76-ab75-caf5db8f048d",
   "metadata": {},
   "source": [
    "### Definición:"
   ]
  },
  {
   "cell_type": "markdown",
   "id": "fb7e8cc4-22a2-4cd5-b6ba-a332fd050f3a",
   "metadata": {},
   "source": [
    "La mayoría de los estudios financieros se concentran en los retornos en lugar de los precios de los activos. Hay varias razones algunas de ellas son:\n",
    "1. Para los inversionistas promedio, el rendimiento de un activo proporciona un resumen completo y sin escala de la oportunidad de inversión.\n",
    "2. Las series de retornos son más fáciles de manejar que las series de precios debido a sus propiedades estadísticas más favorables."
   ]
  },
  {
   "cell_type": "markdown",
   "id": "0dd78969-036d-46b8-aaca-e595a4f22bc7",
   "metadata": {},
   "source": [
    "> _El **retorno** es un indicador esencial que refleja la ganancia o pérdida en una inversión en comparación con la cantidad invertida inicialmente, y se expresa en forma de porcentaje o decimal. Este indicador nos permite evaluar el desempeño de las inversiones, comparar diversas opciones y tomar decisiones fundamentadas en la asignación de recursos. Alcanzar el equilibrio adecuado entre riesgo y retorno es crucial para desarrollar una estrategia de inversión exitosa._<br><br>\n",
    "> _**IMPORTANTE**: Por lo general los rendimientos **más altos**  conllevan **mayores riesgos**._<br>"
   ]
  },
  {
   "cell_type": "markdown",
   "id": "a58a8042-db11-4407-86a8-999a6be17fe2",
   "metadata": {},
   "source": [
    "### Cálculo del retorno simple:"
   ]
  },
  {
   "cell_type": "markdown",
   "id": "1062ac05-f4e8-4e90-90f7-f75e5e80c600",
   "metadata": {},
   "source": [
    "<br><br>\n",
    "$$\\Large R=\\frac{P_1-P_0}{P_0}\\rightarrow \\frac{P_1}{P_0}-1$$"
   ]
  },
  {
   "cell_type": "markdown",
   "id": "26b02839-fb17-4a8e-9edb-2dd5aeab2e5e",
   "metadata": {},
   "source": [
    "Ejemplo Precio de la acción ACME <br>\n",
    "$P_{t_0}$: 50.00 <br>\n",
    "$P_{t_1}$: 55.00"
   ]
  },
  {
   "cell_type": "code",
   "execution_count": 2,
   "id": "53d877a5-4508-4da4-bf98-c18451c73456",
   "metadata": {},
   "outputs": [
    {
     "name": "stdout",
     "output_type": "stream",
     "text": [
      "0.1\n"
     ]
    }
   ],
   "source": [
    "p0 = 50\n",
    "p1 = 55\n",
    "r = (p1 - p0) / p0\n",
    "print(r)"
   ]
  },
  {
   "cell_type": "code",
   "execution_count": 3,
   "id": "0dafc421-9160-4377-82e1-190a12ebbcab",
   "metadata": {},
   "outputs": [
    {
     "name": "stdout",
     "output_type": "stream",
     "text": [
      "0.10000000000000009\n"
     ]
    }
   ],
   "source": [
    "r = (p1 / p0) - 1\n",
    "print(r)\n"
   ]
  },
  {
   "cell_type": "markdown",
   "id": "691ff40c-d98c-4b81-8b45-aa9494e910e7",
   "metadata": {},
   "source": [
    "## <font color='#2B17B0'>FUNCIONES, LIBRERIAS Y COMANDOS MAGICOS</font>"
   ]
  },
  {
   "cell_type": "markdown",
   "id": "3e391386-0df4-413e-a810-e37542f9065f",
   "metadata": {},
   "source": [
    "### CREAR FUNCIONES"
   ]
  },
  {
   "cell_type": "markdown",
   "id": "7a3c1ef5-806e-4a16-bc44-5e5a684631f1",
   "metadata": {},
   "source": [
    "Una función es un block de código que está diseñado a hacer una función en especial. Cuando queremos utilizar la función, la llamamos utilizando su nombre. <br><br>\n",
    "En python las funciones se definenen utilizando `def` y siempre va seguida del nombre de la función seguido de un par de paréntesis."
   ]
  },
  {
   "cell_type": "markdown",
   "id": "986dd87e-cf45-4319-8d10-8f1e27a1cbb2",
   "metadata": {},
   "source": [
    "#### CREAR FUNCION `retorno_simple`"
   ]
  },
  {
   "cell_type": "markdown",
   "id": "9a8d2f24-ddf3-4723-994a-3c01a6add523",
   "metadata": {},
   "source": [
    "La función debe:\n",
    "* Tener dos parámetros `precio_inicial` y `precio_final`.\n",
    "* Calcular el retorno simple dados los dos parámetros.\n",
    "* Asegurarse que los argumentos (los valores asignados a los parámetros), sean del tipo numérico.\n",
    "* En caso de no ser así, generar un error que diga `\"Los parámetros, 'x' y 'y', deben ser valores numéricos (int o float).\"`."
   ]
  },
  {
   "cell_type": "code",
   "execution_count": 4,
   "id": "20fe473c-15ce-48ed-81b2-9e042f97bd9c",
   "metadata": {},
   "outputs": [],
   "source": [
    "def retorno_simple(precio_inicial, precio_final):\n",
    "    if not isinstance(precio_inicial, (int, float)) or not isinstance(precio_final, (int, float)):\n",
    "        raise TypeError(\"Los parámetros 'precio_inicial' y/o 'precio_final' deben de ser valores numéricos\")\n",
    "    retorno = (precio_final / precio_inicial) - 1\n",
    "\n",
    "    return retorno"
   ]
  },
  {
   "cell_type": "code",
   "execution_count": 5,
   "id": "0a39b537-b18e-4815-af77-25b2f9f131bb",
   "metadata": {},
   "outputs": [
    {
     "data": {
      "text/plain": [
       "0.11111111111111116"
      ]
     },
     "execution_count": 5,
     "metadata": {},
     "output_type": "execute_result"
    }
   ],
   "source": [
    "retorno_simple(1.8, 2)"
   ]
  },
  {
   "cell_type": "code",
   "execution_count": 6,
   "id": "0d19a0a6-4429-4b6f-ad98-c3537009e859",
   "metadata": {},
   "outputs": [
    {
     "data": {
      "text/plain": [
       "True"
      ]
     },
     "execution_count": 6,
     "metadata": {},
     "output_type": "execute_result"
    }
   ],
   "source": [
    "isinstance(.1, (int, float))"
   ]
  },
  {
   "cell_type": "markdown",
   "id": "946d4dcf-2ff9-42cd-91d0-dc5b66b5e10b",
   "metadata": {},
   "source": [
    "### LIBRERIAS"
   ]
  },
  {
   "cell_type": "markdown",
   "id": "dd8cd9ae-d960-4323-bced-486cc8b7a0b8",
   "metadata": {},
   "source": [
    "La función `retorno_simple`, podemos utilizarla en otras libretas de Jupyter o archivos de python si la grabamos en un archivo de Python y la importamos como si fuera una librería como Pandas, Numpy, etc."
   ]
  },
  {
   "cell_type": "code",
   "execution_count": 7,
   "id": "959f5e16-30e2-450a-9bff-2956f03c95c2",
   "metadata": {},
   "outputs": [],
   "source": [
    "import herramientas_financieras as hf"
   ]
  },
  {
   "cell_type": "code",
   "execution_count": 11,
   "id": "806bd53e-6ede-4117-9d48-b7b6a91243cd",
   "metadata": {},
   "outputs": [
    {
     "data": {
      "text/plain": [
       "0.11111111111111116"
      ]
     },
     "execution_count": 11,
     "metadata": {},
     "output_type": "execute_result"
    }
   ],
   "source": [
    "hf.retorno_simple(1.8, 2)"
   ]
  },
  {
   "cell_type": "markdown",
   "id": "7d604902-a5bc-458a-80a9-ec43019073c5",
   "metadata": {},
   "source": [
    "### COMANDOS MAGICOS"
   ]
  },
  {
   "cell_type": "markdown",
   "id": "6b207f61-c340-4427-9392-180a741737a9",
   "metadata": {},
   "source": [
    "En Jupyter, existen instrucciones especiales independientes del código de Python que se utlizan para diferentes tareas. \n",
    "\n",
    "Algunos comandos mágicos:"
   ]
  },
  {
   "cell_type": "markdown",
   "id": "9174345e-7d65-4e37-b86a-5edb1928babc",
   "metadata": {},
   "source": [
    "<table>\n",
    "    <tr>\n",
    "        <th>Comando Mágico</th>\n",
    "        <th>Descripción</th>\n",
    "        <th>Código de Ejemplo</th>\n",
    "    </tr>\n",
    "    <tr>\n",
    "        <td><code>%time</code></td>\n",
    "        <td>Mide el tiempo de ejecución de una sola línea de código.</td>\n",
    "        <td><code>%time sum(range(1000))</code></td>\n",
    "    </tr>\n",
    "    <tr>\n",
    "        <td><code>%timeit</code></td>\n",
    "        <td>Ejecuta la línea de código varias veces y calcula el tiempo promedio.</td>\n",
    "        <td><code>%timeit sum(range(1000))</code></td>\n",
    "    </tr>\n",
    "    <tr>\n",
    "        <td><code>%who</code></td>\n",
    "        <td>Muestra todas las variables definidas en el espacio de trabajo actual.</td>\n",
    "        <td><code>%who</code></td>\n",
    "    </tr>\n",
    "    <tr>\n",
    "        <td><code>%matplotlib inline</code></td>\n",
    "        <td>Hace que los gráficos de Matplotlib se muestren dentro del cuaderno.</td>\n",
    "        <td><code>%matplotlib inline</code></td>\n",
    "    </tr>\n",
    "    <tr>\n",
    "        <td><code>%ls</code></td>\n",
    "        <td>Lista los archivos en el directorio actual, similar a <code>ls</code> en la terminal.</td>\n",
    "        <td><code>%ls</code></td>\n",
    "    </tr>\n",
    "    <tr>\n",
    "        <td><code>%run &lt;filename&gt;</code></td>\n",
    "        <td>Ejecuta un script de Python desde un archivo.</td>\n",
    "        <td><code>%run script.py</code></td>\n",
    "    </tr>\n",
    "    <tr>\n",
    "        <td><code>%debug</code></td>\n",
    "        <td>Entra en el modo de depuración interactivo en caso de que ocurra un error.</td>\n",
    "        <td><code>%debug</code></td>\n",
    "    </tr>\n",
    "    <tr>\n",
    "        <td><code>%load &lt;filename&gt;</code></td>\n",
    "        <td>Carga el contenido de un archivo en la celda actual.</td>\n",
    "        <td><code>%load script.py</code></td>\n",
    "    </tr>\n",
    "</table>\n"
   ]
  },
  {
   "cell_type": "code",
   "execution_count": 20,
   "id": "4f6b018c-ba4f-44bb-a8b2-eee74b946c6d",
   "metadata": {},
   "outputs": [
    {
     "name": "stdout",
     "output_type": "stream",
     "text": [
      "README.md                    \u001b[1m\u001b[36m__pycache__\u001b[m\u001b[m/\n",
      "Sesion9.ipynb                herramientas_financieras.py\n"
     ]
    }
   ],
   "source": [
    "%ls"
   ]
  },
  {
   "cell_type": "markdown",
   "id": "2238a851-4660-4c07-bd62-035c92e65de9",
   "metadata": {},
   "source": [
    "#### Comandos mágicos para cargar automáticamente cambios en un archivo externo"
   ]
  },
  {
   "cell_type": "code",
   "execution_count": 9,
   "id": "3284b1af-313e-4a57-a66e-9f1c43cda604",
   "metadata": {},
   "outputs": [],
   "source": [
    "%load_ext autoreload\n",
    "%autoreload 2"
   ]
  },
  {
   "cell_type": "markdown",
   "id": "6a76bfee-f1cf-4d56-bbae-ed2194969a27",
   "metadata": {},
   "source": [
    "`%load_ext autoreload`: Este comando carga la extensión autoreload, que permite la recarga automática de módulos.\n",
    "\n",
    "`%autoreload 2`: Activa la recarga automática de todos los módulos importados cada vez que se ejecuta una celda. Esto significa que cualquier cambio que hagas en un archivo externo de Python se reflejará inmediatamente en el cuaderno sin necesidad de reiniciar el kernel o volver a importar manualmente."
   ]
  },
  {
   "cell_type": "markdown",
   "id": "84d24c0f-ab7d-4273-bcfd-a96bbf5648f9",
   "metadata": {},
   "source": [
    "Desarrollar su docstring (utilizar ChatGPT) para la función `retorno_simple`"
   ]
  },
  {
   "cell_type": "code",
   "execution_count": null,
   "id": "459b16db-510e-4cf7-98cd-ec381a783567",
   "metadata": {},
   "outputs": [],
   "source": [
    "pd.DataFrame("
   ]
  },
  {
   "cell_type": "markdown",
   "id": "ee089980-4c0e-4be4-908f-4eb3b55063d0",
   "metadata": {},
   "source": [
    "## <font color='#2B17B0'>FLUJOS DE EFECTIVOS Y RETORNOS ENTRE MULTIPLES PERIODOS</font>"
   ]
  },
  {
   "cell_type": "markdown",
   "id": "15de2a56-139c-426a-88a1-f8d9fb2eb5fe",
   "metadata": {
    "tags": []
   },
   "source": [
    "### Flujos de efectivo"
   ]
  },
  {
   "cell_type": "markdown",
   "id": "dc8940ae-afe3-4436-9b27-414d84168540",
   "metadata": {},
   "source": [
    "> _Los flujos de efectivo representan el movimiento de dinero que se recibe o se gasta a lo largo de un período determinado. Estos flujos pueden ser entrantes (dinero recibido) o salientes (dinero gastado), y su ocurrencia puede ser regular o esporádica._\n",
    "<br><br>\n",
    "> _Visualizar el flujo de efectivo en un gráfico facilita la comprensión de los datos financieros complejos, mejorando así la toma de decisiones. Los gráficos muestran la dirección de los flujos (entrantes o salientes), las cantidades de dinero, el número de períodos y la frecuencia con la que ocurren._"
   ]
  },
  {
   "cell_type": "markdown",
   "id": "51430a35-1a7d-4d46-a08e-0686a0f1901d",
   "metadata": {},
   "source": [
    "![Image](https://dl.dropboxusercontent.com/scl/fi/k4vrvw71s9kw5j16hzq17/flujos_periodo.png?rlkey=yu3c96xo5x3izv0sno4wi4h7n&dl=1)"
   ]
  },
  {
   "cell_type": "markdown",
   "id": "203a41e3-bbe8-4a85-a068-387378032ae9",
   "metadata": {
    "tags": []
   },
   "source": [
    "### Calcular el retorno de los flujos de $t_0$ a $t_1$ y de $t_1$ a $t_2$"
   ]
  },
  {
   "cell_type": "markdown",
   "id": "b80d6499-4e5f-41be-ac22-1ce32358cc03",
   "metadata": {},
   "source": [
    "![Image](https://dl.dropboxusercontent.com/scl/fi/7ccrpxhi9vqt1mfcpfbuu/retorno_periodo.png?rlkey=r5c8wno09mxna74q918m46mwl&dl=1)"
   ]
  },
  {
   "cell_type": "code",
   "execution_count": 12,
   "id": "8a749679-4523-4e0a-bba4-625385359dcb",
   "metadata": {},
   "outputs": [
    {
     "name": "stdout",
     "output_type": "stream",
     "text": [
      "0.3500000000000001\n"
     ]
    }
   ],
   "source": [
    "r01 = hf.retorno_simple(140, 189)\n",
    "print(r01)"
   ]
  },
  {
   "cell_type": "code",
   "execution_count": 13,
   "id": "28e75a9d-dfb8-4bb0-852a-c8f5fff83d04",
   "metadata": {},
   "outputs": [
    {
     "name": "stdout",
     "output_type": "stream",
     "text": [
      "0.031746031746031855\n"
     ]
    }
   ],
   "source": [
    "r12 = hf.retorno_simple(189, 195)\n",
    "print(r12)"
   ]
  },
  {
   "cell_type": "markdown",
   "id": "4f70407e-d686-4831-85f8-9d482175dc67",
   "metadata": {
    "tags": []
   },
   "source": [
    "### Calcular el retorno múltiple o compuesto de $t_0$ a $t_2$"
   ]
  },
  {
   "cell_type": "markdown",
   "id": "a1bb39b5-20db-4412-95cb-34ee511b6a65",
   "metadata": {
    "tags": []
   },
   "source": [
    "> *El retorno de múltiples periodos es la medida acumulativa de la ganancia o pérdida de una inversión a lo largo de varios intervalos de tiempo consecutivos, reflejando el efecto compuesto de los retornos en cada periodo.*"
   ]
  },
  {
   "cell_type": "markdown",
   "id": "13ae35e3-4d1f-4bdc-925f-064e08d59a65",
   "metadata": {},
   "source": [
    "![Image](https://dl.dropboxusercontent.com/scl/fi/89iafhshon8fng5415kci/retorno_multiples_periodos.png?rlkey=d6wluqutujqsl1wj24gjdkg3f&dl=1)"
   ]
  },
  {
   "cell_type": "code",
   "execution_count": 14,
   "id": "e1948d7d-df2a-4443-83be-1113305746c0",
   "metadata": {},
   "outputs": [
    {
     "name": "stdout",
     "output_type": "stream",
     "text": [
      "0.3928571428571428\n"
     ]
    }
   ],
   "source": [
    "r02 = hf.retorno_simple(140, 195)\n",
    "print(r02)"
   ]
  },
  {
   "cell_type": "code",
   "execution_count": null,
   "id": "fa704b73-52dc-46dd-bbdd-b8ec103a9c11",
   "metadata": {},
   "outputs": [],
   "source": []
  },
  {
   "cell_type": "markdown",
   "id": "e13ebd5c-4b67-4076-a0c0-59732800a5f9",
   "metadata": {},
   "source": [
    "Si calculamos el retorno utilizando los valores en $t_0$ y $t_2$, estamos calculando un retorno total, PERO:\n",
    "* Cuando calculamos el retorno de múltiples períodos de esta manera, estamos capturando solo el cambio entre el inicio y el final, pero **no estamos considerando cómo los rendimientos intermedios afectan el valor acumulado**.\n",
    "* El efecto del interés compuesto es crucial porque **cada período de rendimiento afecta el valor total de la inversión**, lo que significa que las ganancias o pérdidas en cada paso se acumulan. Ignorar esto da una visión incompleta de la evolución real de la inversión.\n",
    "* Los retornos simples de múltiples períodos **no capturan correctamente la volatilidad**. En períodos con grandes fluctuaciones (por ejemplo, un aumento grande seguido de una caída), el retorno simple puede dar una impresión engañosa.\n",
    "* Al usar retornos simples, puede ser difícil comparar entre distintos horizontes de tiempo (por ejemplo, entre retornos anuales y mensuales) ya que el retorno simple de múltiples períodos no permite una conversión directa a una tasa anual o mensual.\n",
    "* En términos prácticos, los inversionistas suelen estar interesados en el valor futuro de su inversión, que depende del crecimiento compuesto. Al usar solo el retorno simple, **se pierde la capacidad de medir cómo crece realmente la riqueza en el tiempo**.\n",
    "* Esto es importante porque **el rendimiento compuesto es una medida más realista del potencial de crecimiento**, mientras que el retorno simple puede presentar una visión simplificada que no se alinea con el comportamiento real de la inversión."
   ]
  },
  {
   "cell_type": "markdown",
   "id": "00b4eb5f-b8cc-48e2-b3d9-30c4ca0781ec",
   "metadata": {},
   "source": [
    "$$\n",
    "R_{\\text{total}} = \\left[ \\prod_{t=0}^{n} (1 + R_t) \\right] - 1\n",
    "$$\n",
    "\n",
    "$\\large R_{t_0,t_2}=(1+R_{t_0,t_1})(1+R_{t_1,t_2})-1$\n",
    "<br><br>\n",
    "$\\large R_{t_0,t_2}=(1+0.35)(1+0.032)-1$ <br><br>"
   ]
  },
  {
   "cell_type": "code",
   "execution_count": 15,
   "id": "b4cd1fe0-5e50-4019-8e6e-f35cbb36f9dd",
   "metadata": {},
   "outputs": [
    {
     "name": "stdout",
     "output_type": "stream",
     "text": [
      "0.3500000000000001 0.031746031746031855\n"
     ]
    }
   ],
   "source": [
    "print(r01, r12)"
   ]
  },
  {
   "cell_type": "code",
   "execution_count": 16,
   "id": "a67c3384-978a-450e-add0-27edb2dba043",
   "metadata": {},
   "outputs": [
    {
     "data": {
      "text/plain": [
       "0.392857142857143"
      ]
     },
     "execution_count": 16,
     "metadata": {},
     "output_type": "execute_result"
    }
   ],
   "source": [
    "(1 + r01) * (1 + r12) - 1"
   ]
  },
  {
   "cell_type": "markdown",
   "id": "2ac93500-8d9d-463b-9898-6f5066ba4845",
   "metadata": {},
   "source": [
    "#### CREAR FUNCION `retorno_compuesto`"
   ]
  },
  {
   "cell_type": "markdown",
   "id": "c33a090c-281e-452b-9a87-adaf127299c5",
   "metadata": {},
   "source": [
    "La función debe:\n",
    "* Mismas características que la función `retorno_simple`.\n",
    "* Los datos deben de ser ingresados en una lista."
   ]
  },
  {
   "cell_type": "code",
   "execution_count": 41,
   "id": "c7323c66-af17-4262-8682-0de49bced854",
   "metadata": {},
   "outputs": [],
   "source": [
    "def retorno_compuesto(valores):\n",
    "    if len(valores) < 2:\n",
    "        raise ValueError('A la lista le faltan más valores')\n",
    "\n",
    "    # Calcular el retorno de cada periodo y acumular el retorno compuesto\n",
    "    retorno_compuesto = 1\n",
    "\n",
    "    for i in range(1, len(valores)):\n",
    "        precio_inicial = valores[i - 1]\n",
    "        precio_final = valores[i]\n",
    "\n",
    "        if not isinstance(precio_inicial, (int, float)) or not isinstance(precio_final, (int, float)):\n",
    "            raise TypeError(\"Los parámetros 'precio_inicial' y/o 'precio_final' deben de ser valores numéricos\")\n",
    "    \n",
    "        retorno_periodo = (precio_final / precio_inicial) - 1\n",
    "        retorno_compuesto *= (1 + retorno_periodo)\n",
    "\n",
    "    retorno_compuesto = retorno_compuesto - 1\n",
    "\n",
    "    return retorno_compuesto"
   ]
  },
  {
   "cell_type": "code",
   "execution_count": 46,
   "id": "c0635cd8-7321-4b93-a1e2-7a76a00b55bf",
   "metadata": {},
   "outputs": [
    {
     "ename": "TypeError",
     "evalue": "Los parámetros 'precio_inicial' y/o 'precio_final' deben de ser valores numéricos",
     "output_type": "error",
     "traceback": [
      "\u001b[0;31m---------------------------------------------------------------------------\u001b[0m",
      "\u001b[0;31mTypeError\u001b[0m                                 Traceback (most recent call last)",
      "Cell \u001b[0;32mIn[46], line 1\u001b[0m\n\u001b[0;32m----> 1\u001b[0m \u001b[43mretorno_compuesto\u001b[49m\u001b[43m(\u001b[49m\u001b[43m[\u001b[49m\u001b[38;5;124;43m'\u001b[39;49m\u001b[38;5;124;43mx\u001b[39;49m\u001b[38;5;124;43m'\u001b[39;49m\u001b[43m,\u001b[49m\u001b[43m \u001b[49m\u001b[38;5;241;43m189\u001b[39;49m\u001b[43m,\u001b[49m\u001b[43m \u001b[49m\u001b[38;5;241;43m195\u001b[39;49m\u001b[43m]\u001b[49m\u001b[43m)\u001b[49m\n",
      "Cell \u001b[0;32mIn[41], line 13\u001b[0m, in \u001b[0;36mretorno_compuesto\u001b[0;34m(valores)\u001b[0m\n\u001b[1;32m     10\u001b[0m precio_final \u001b[38;5;241m=\u001b[39m valores[i]\n\u001b[1;32m     12\u001b[0m \u001b[38;5;28;01mif\u001b[39;00m \u001b[38;5;129;01mnot\u001b[39;00m \u001b[38;5;28misinstance\u001b[39m(precio_inicial, (\u001b[38;5;28mint\u001b[39m, \u001b[38;5;28mfloat\u001b[39m)) \u001b[38;5;129;01mor\u001b[39;00m \u001b[38;5;129;01mnot\u001b[39;00m \u001b[38;5;28misinstance\u001b[39m(precio_final, (\u001b[38;5;28mint\u001b[39m, \u001b[38;5;28mfloat\u001b[39m)):\n\u001b[0;32m---> 13\u001b[0m     \u001b[38;5;28;01mraise\u001b[39;00m \u001b[38;5;167;01mTypeError\u001b[39;00m(\u001b[38;5;124m\"\u001b[39m\u001b[38;5;124mLos parámetros \u001b[39m\u001b[38;5;124m'\u001b[39m\u001b[38;5;124mprecio_inicial\u001b[39m\u001b[38;5;124m'\u001b[39m\u001b[38;5;124m y/o \u001b[39m\u001b[38;5;124m'\u001b[39m\u001b[38;5;124mprecio_final\u001b[39m\u001b[38;5;124m'\u001b[39m\u001b[38;5;124m deben de ser valores numéricos\u001b[39m\u001b[38;5;124m\"\u001b[39m)\n\u001b[1;32m     15\u001b[0m retorno_periodo \u001b[38;5;241m=\u001b[39m (precio_final \u001b[38;5;241m/\u001b[39m precio_inicial) \u001b[38;5;241m-\u001b[39m \u001b[38;5;241m1\u001b[39m\n\u001b[1;32m     16\u001b[0m retorno_compuesto \u001b[38;5;241m*\u001b[39m\u001b[38;5;241m=\u001b[39m (\u001b[38;5;241m1\u001b[39m \u001b[38;5;241m+\u001b[39m retorno_periodo)\n",
      "\u001b[0;31mTypeError\u001b[0m: Los parámetros 'precio_inicial' y/o 'precio_final' deben de ser valores numéricos"
     ]
    }
   ],
   "source": [
    "retorno_compuesto(['x', 189, 195])"
   ]
  },
  {
   "cell_type": "code",
   "execution_count": 45,
   "id": "7561b3bf-3937-4879-9804-4a0d929ba900",
   "metadata": {},
   "outputs": [
    {
     "data": {
      "text/plain": [
       "20"
      ]
     },
     "execution_count": 45,
     "metadata": {},
     "output_type": "execute_result"
    }
   ],
   "source": [
    "2 * 4\n",
    "3 * 4\n",
    "5 * 4"
   ]
  },
  {
   "cell_type": "code",
   "execution_count": 20,
   "id": "a2e360a0-7c1e-4083-a80f-19010e2cc6d1",
   "metadata": {},
   "outputs": [
    {
     "name": "stdout",
     "output_type": "stream",
     "text": [
      "2 4\n",
      "3 6\n",
      "4 8\n",
      "5 10\n",
      "6 12\n",
      "7 14\n",
      "8 16\n",
      "9 18\n"
     ]
    }
   ],
   "source": [
    "lista_for_loop = [2, 3, 4, 5, 6,7 ,8, 9]\n",
    "\n",
    "for elemento in lista_for_loop:\n",
    "    multiplicacion = elemento * 2\n",
    "    print(elemento, multiplicacion)"
   ]
  },
  {
   "cell_type": "code",
   "execution_count": 21,
   "id": "491ae5fe-19b6-443a-b595-e620b3d89db8",
   "metadata": {
    "scrolled": true
   },
   "outputs": [
    {
     "name": "stdout",
     "output_type": "stream",
     "text": [
      "2 4\n",
      "3 6\n",
      "4 8\n",
      "5 10\n",
      "6 12\n",
      "7 14\n",
      "8 16\n",
      "9 18\n"
     ]
    }
   ],
   "source": [
    "# lista_for_loop = [2, 3, 4, 5, 6,7 ,8, 9]\n",
    "\n",
    "for elemento in range(2, 10):\n",
    "    multiplicacion = elemento * 2\n",
    "    print(elemento, multiplicacion)"
   ]
  },
  {
   "cell_type": "code",
   "execution_count": 22,
   "id": "5c9c2759-398f-4bc1-b8a8-1cc8c63cb698",
   "metadata": {},
   "outputs": [
    {
     "data": {
      "text/plain": [
       "8"
      ]
     },
     "execution_count": 22,
     "metadata": {},
     "output_type": "execute_result"
    }
   ],
   "source": [
    "len(lista_for_loop)"
   ]
  },
  {
   "cell_type": "code",
   "execution_count": 26,
   "id": "850a4e3d-f3dc-46a8-8613-d53b04018c51",
   "metadata": {},
   "outputs": [
    {
     "data": {
      "text/plain": [
       "9"
      ]
     },
     "execution_count": 26,
     "metadata": {},
     "output_type": "execute_result"
    }
   ],
   "source": [
    "lista_for_loop[7]"
   ]
  },
  {
   "cell_type": "code",
   "execution_count": 27,
   "id": "d766dd76-8254-4b09-927b-c86f59aa8f61",
   "metadata": {},
   "outputs": [
    {
     "data": {
      "text/plain": [
       "9"
      ]
     },
     "execution_count": 27,
     "metadata": {},
     "output_type": "execute_result"
    }
   ],
   "source": [
    "lista_for_loop[-1]"
   ]
  },
  {
   "cell_type": "code",
   "execution_count": 28,
   "id": "24756f8d-9b8d-46db-9c4c-fb4c4d197cee",
   "metadata": {},
   "outputs": [
    {
     "data": {
      "text/plain": [
       "8"
      ]
     },
     "execution_count": 28,
     "metadata": {},
     "output_type": "execute_result"
    }
   ],
   "source": [
    "lista_for_loop[-2]"
   ]
  },
  {
   "cell_type": "code",
   "execution_count": 29,
   "id": "fb01a3ea-d946-41f4-b1b3-731abf868179",
   "metadata": {},
   "outputs": [
    {
     "data": {
      "text/plain": [
       "2"
      ]
     },
     "execution_count": 29,
     "metadata": {},
     "output_type": "execute_result"
    }
   ],
   "source": [
    "lista_for_loop[-8]"
   ]
  },
  {
   "cell_type": "code",
   "execution_count": 19,
   "id": "037e51db-402b-400f-9c62-9a6365eede9d",
   "metadata": {},
   "outputs": [],
   "source": [
    "retorno_compuesto([1, 2])"
   ]
  },
  {
   "cell_type": "markdown",
   "id": "c219ac31-12d3-45c7-bea0-e4ec5432143f",
   "metadata": {
    "jp-MarkdownHeadingCollapsed": true,
    "tags": []
   },
   "source": [
    "## <font color='#2B17B0'>RETORNOS ANUALIZADOS</font>"
   ]
  },
  {
   "cell_type": "markdown",
   "id": "3cfce6f8-3ab3-430e-9d5c-5836863a89b0",
   "metadata": {},
   "source": [
    "Anualizar retornos es fundamental para realizar comparaciones exactas y equitativas de la rentabilidad de distintas inversiones, especialmente cuando los periodos de inversión difieren.<br><br>\n",
    "Anualizar permite responder preguntas como: \"¿Cuál sería el rendimiento anual si este rendimiento mensual se mantuviera constante durante todo el año?\" Al expresar todos los retornos en una misma base temporal (anual), podemos comparar inversiones o analizar el crecimiento en términos consistentes y uniformes.<br><br>"
   ]
  },
  {
   "cell_type": "markdown",
   "id": "62032b38-53d4-4dad-a0e1-1bf764f8dcd7",
   "metadata": {
    "tags": []
   },
   "source": [
    "### De retorno mensual a retorno anual"
   ]
  },
  {
   "cell_type": "markdown",
   "id": "09ea4c41-682c-49e7-b077-cfd2330eea88",
   "metadata": {},
   "source": [
    "Tenemos una inversión que nos da un retorno mensual $R_m$. ¿Cual será el _Valor final_ de la inversión dentro de un año?"
   ]
  },
  {
   "cell_type": "markdown",
   "id": "c06d8e41-ee01-4804-bbfe-cf915899708a",
   "metadata": {},
   "source": [
    "$$ ValorFinal = ValorInicial(1+R_m)(1+R_m)(1+R_m)(1+R_m)(1+R_m)(1+R_m)(1+R_m)(1+R_m)(1+R_m)(1+R_m)(1+R_m)(1+R_m)$$\n",
    "$$\\Large ValorFinal = VarlosInicial(1+R_m)^{12}$$\n",
    "Ahora queremos encontrar un Retorno anual que sea equivalente al retorno compuesto menusal\n",
    "$$\\Large ValorInicial(1+R_a)=ValorInicial(1+R_m)^{12}$$\n",
    "Al dividir la ecuación entre $ValorInicial$ y despejando para $R_a$ tenemos:\n",
    "$$\n",
    "\\begin{align*}\n",
    "\\Large 1+R_a &= \\Large(1+R_m)^{12}\\\\\n",
    "\\Large R_a &= \\Large(1+R_m)^{12}-1\\\\\n",
    "\\end{align*}\n",
    "$$"
   ]
  },
  {
   "cell_type": "markdown",
   "id": "deb86c00-2b00-4631-a9cc-b625b1e1efe3",
   "metadata": {},
   "source": [
    "Tenemos una inversión que nos generó 3% en un mes, cual es su tasa anual?"
   ]
  },
  {
   "cell_type": "markdown",
   "id": "80682000-49dc-4d5f-854a-4267c48b8bd0",
   "metadata": {},
   "source": [
    "$$\n",
    "\\begin{align*}\n",
    "\\Large R_{a} &= \\Large(1 + R_{P})^{12} - 1 \\\\\n",
    "\\Large R_{a} &= \\Large(1 + 0.03)^{12} - 1 \\\\\n",
    "\\Large R_{a} &= \\Large1.4257 - 1 \\\\\n",
    "\\Large R_{a} &= \\Large0.4257\n",
    "\\end{align*}\n",
    "$$\n",
    "\n",
    "\n",
    "\n",
    "Donde<br>\n",
    "* $R_a$: Retorno anualizado<br>\n",
    "* $R_P$: Retorno del periodos<br>"
   ]
  },
  {
   "cell_type": "markdown",
   "id": "92559611-a16c-4dd1-8ae0-e4d1196817a8",
   "metadata": {},
   "source": [
    "Siguiendo la misma lógica una inversión que nos generó 17% en un 6 meses, cual es su tasa anual?"
   ]
  },
  {
   "cell_type": "markdown",
   "id": "c5bb93e4-87db-4aaf-ad0d-a1c62900f13e",
   "metadata": {},
   "source": [
    "$$\n",
    "\\begin{align*}\n",
    "\\Large (1 + R_{a}) &= \\Large(1 + R_{s})^{?} \\\\\n",
    "\\Large R_{a} &= \\Large(1 + R_{s})^{?} - 1 \\\\\n",
    "\\Large R_{a} &= \\Large(1 + 0.17)^{?} - 1 \\\\\n",
    "\\Large R_{a} &= \\Large? - 1 \\\\\n",
    "\\Large R_{a} &= \\Large?\n",
    "\\end{align*}\n",
    "$$"
   ]
  },
  {
   "cell_type": "markdown",
   "id": "0da87002-7198-4655-be0c-3379716eda3b",
   "metadata": {},
   "source": [
    "Siguiendo estos dos ejemplos, podemos generalizar y llegar a la siguiente fórmula:\n",
    "$$\\Large R_{a}=(1+R_{P})^{PeriodosPorAño}-1$$"
   ]
  },
  {
   "cell_type": "markdown",
   "id": "b3391ae7-60c5-4bf5-bd11-9b82b81c95dc",
   "metadata": {},
   "source": [
    "Anualizar las siguientes dos tasas:\n",
    "1. Tasa trimestral de 5%\n",
    "2. Tasa diaria de 0.1%"
   ]
  },
  {
   "cell_type": "code",
   "execution_count": null,
   "id": "41e7723b-54af-4295-8733-e25820d0cd0b",
   "metadata": {},
   "outputs": [],
   "source": []
  },
  {
   "cell_type": "markdown",
   "id": "66913b9e-7f76-4821-90f5-1e11e1bef6c5",
   "metadata": {},
   "source": [
    "$$\\Large R_{a}=(1+R_{P})^{\\frac{PeriodosPorAño}{NúmeroDePeriodos}}-1$$\n",
    "Donde<br>\n",
    "* $R_a$: Retorno anualizado<br>\n",
    "* $R_P$: Retorno del periodos<br>\n",
    "* $PeriodosPorAño$:  Números de periodos presentes en un año<br>\n",
    "* $NúmeroDePeriodos$:  Números de periodos que representa el $R_p$"
   ]
  },
  {
   "cell_type": "markdown",
   "id": "b4f43021-76d4-4280-846c-d0d664b08570",
   "metadata": {},
   "source": [
    "Tenemos una inversión que nos generó un retorno de 1% en 3 dias. ¿Cuál sería su tasa anual equivalente?"
   ]
  },
  {
   "cell_type": "code",
   "execution_count": null,
   "id": "da8ed3a4-844a-4c14-bc8a-83e0cfde0c6b",
   "metadata": {},
   "outputs": [],
   "source": []
  },
  {
   "cell_type": "markdown",
   "id": "ae637363-8b9d-4c32-ae1a-018dea5c0f84",
   "metadata": {},
   "source": [
    "|Frecuencia|Fórmula|\n",
    "|:-:|:-:|\n",
    "|Base|$$(1+R_p)^{\\frac{PeriodosPorAño}{NúmeroPeriodos}}$$\n",
    "|Diaria*|$$(1+R_p)^{365}-1$$|\n",
    "|Diaria*|$$(1+R_p)^{252}-1$$|\n",
    "|Mensual|$$(1+R_p)^{12}-1$$|\n",
    "|Bimestral|$$(1+R_p)^{6}-1$$|\n",
    "|Trimestral|$$(1+R_p)^{4}-1$$|\n",
    "|Semestral|$$(1+R_p)^{2}-1$$|\n",
    "\n",
    "* _NOTA_:  Se utilizan 252 días para incluir solo los días en que los mercados están operativos, excluyendo fines de semana y días festivos. Sin embargo, en mercados que operan continuamente como los de divisas (FX) o criptomonedas, se emplean 365 días, dado que estos mercados funcionan 24/7."
   ]
  },
  {
   "cell_type": "markdown",
   "id": "fd4460af-830d-4f7a-a868-ccc4727d9344",
   "metadata": {
    "jp-MarkdownHeadingCollapsed": true,
    "tags": []
   },
   "source": [
    "## <font color='#2B17B0'>EFECTO DEL INTERES COMPUESTO</font>"
   ]
  },
  {
   "cell_type": "markdown",
   "id": "6cd22518-3386-42b0-8913-e1c3038c636d",
   "metadata": {},
   "source": [
    "> _Tenemos acceso a una tasa de interés anual del 10%. ¿Cuál será el balance al final del año en cada uno de los siguientes casos?:_ <br>\n",
    "> _1. Si la inversión paga interés una una vez al año._<br>\n",
    "> _2. Si la inversión paga intereses semestral._<br>\n",
    "> _3. Si la inversión paga intereses trimestal._<br>\n",
    "> _4. Si la inversión paga intereses bimestral._<br>\n",
    "> _5. Si la inversión paga intereses de manera mensual._<br>\n",
    "> _6. Si la inversión paga intereses diaria._<br>\n",
    "> _7. Si la inversión paga interés continuo._<br>"
   ]
  },
  {
   "cell_type": "code",
   "execution_count": null,
   "id": "4100f35d-285d-4d25-88a8-b59d0203d962",
   "metadata": {},
   "outputs": [],
   "source": []
  },
  {
   "cell_type": "markdown",
   "id": "40eef455-724a-4418-8f3c-f4a11242fc04",
   "metadata": {},
   "source": [
    "### 1. Si la inversión paga interés una una vez al año."
   ]
  },
  {
   "cell_type": "code",
   "execution_count": null,
   "id": "8596768a-8460-4ef4-a548-3d2e8c58e56e",
   "metadata": {},
   "outputs": [],
   "source": []
  },
  {
   "cell_type": "markdown",
   "id": "c0e9c669-78f8-453f-b807-5bd890849a5f",
   "metadata": {},
   "source": [
    "### 2. Si la inversión paga intereses de manera semestral."
   ]
  },
  {
   "cell_type": "code",
   "execution_count": null,
   "id": "5f12c144-bcba-4633-bc02-40eccd9a9d74",
   "metadata": {},
   "outputs": [],
   "source": []
  },
  {
   "cell_type": "markdown",
   "id": "591fb87b-aa9a-4fd7-a815-9cef9e63ca17",
   "metadata": {},
   "source": [
    "### 3. Si la inversión paga intereses de manera trimestal."
   ]
  },
  {
   "cell_type": "code",
   "execution_count": null,
   "id": "d81dd7c4-a6d0-4857-a3a0-b9d1a74a48f5",
   "metadata": {},
   "outputs": [],
   "source": []
  },
  {
   "cell_type": "markdown",
   "id": "81945abe-d3d5-476f-b7a5-f3f88d835fb9",
   "metadata": {},
   "source": [
    "### 4. Si la inversión paga intereses de manera bimestral."
   ]
  },
  {
   "cell_type": "code",
   "execution_count": null,
   "id": "5a5b04a5-bdc9-498d-9ea1-8d52288b1009",
   "metadata": {},
   "outputs": [],
   "source": []
  },
  {
   "cell_type": "markdown",
   "id": "ff1e0c36-9d42-46f6-a955-66710616c37c",
   "metadata": {},
   "source": [
    "### 5. Si la inversión paga intereses de manera mensual."
   ]
  },
  {
   "cell_type": "code",
   "execution_count": null,
   "id": "c3bb3af2-2488-487e-b1e1-4279bc40a2f3",
   "metadata": {},
   "outputs": [],
   "source": []
  },
  {
   "cell_type": "markdown",
   "id": "87cd1019-9fa3-4cc3-932c-cceba1f7b1e3",
   "metadata": {},
   "source": [
    "### 6. Si la inversión paga interés diario."
   ]
  },
  {
   "cell_type": "code",
   "execution_count": null,
   "id": "af94d049-02fb-47a6-b073-e5d8b53024f2",
   "metadata": {},
   "outputs": [],
   "source": []
  },
  {
   "cell_type": "markdown",
   "id": "e5a97a6f-6f5e-4510-8e25-687f88fc10f7",
   "metadata": {},
   "source": [
    "### 7. Si la inversión paga interés continuo."
   ]
  },
  {
   "cell_type": "code",
   "execution_count": null,
   "id": "7a0f6924-e4d4-4ca6-89a9-7eba496e2771",
   "metadata": {},
   "outputs": [],
   "source": []
  },
  {
   "cell_type": "markdown",
   "id": "8ba366c6-9e2c-451a-980f-c374ea236bb6",
   "metadata": {},
   "source": [
    "Efectos del interés compuesto de una inversión de $100 con una tasa del 10% anual \n",
    "|Frecuencia|Número de pagos|Interés por periodo|Valor final|\n",
    "|:-:|:-:|:-:|:-:|\n",
    "|Anual|1|0.1000|110.0000|\n",
    "|Semestral|2|0.0500|110.2500|\n",
    "|Trimestral|4|0.0250|110.3812|\n",
    "|Bimestral|6|0.0166|110.4260|\n",
    "|Mensual|12|0.0083|110.4713|\n",
    "|Diaria|365|0.00027|110.5156|\n",
    "|Continua|inf||110.5171|"
   ]
  },
  {
   "cell_type": "markdown",
   "id": "8ad78eaf-a922-4d7a-be84-7c3b19c1c014",
   "metadata": {},
   "source": [
    "### Sobre el interés continuo y los retornos logarítmicos"
   ]
  },
  {
   "cell_type": "markdown",
   "id": "5ec701fd-8cc5-426a-ba82-ac838541fe23",
   "metadata": {},
   "source": [
    "$$\\Large ValorFinal = ValorInicial * e^{rt}$$\n",
    "Donde t = escala de tiempo, en nuestro ejemplo años"
   ]
  },
  {
   "cell_type": "markdown",
   "id": "74151c8e-45cd-4808-adf7-5e1f04ad7e9e",
   "metadata": {},
   "source": [
    "Entonces si $\\large PrecioFinal = PrecioInicial * e^{rt}$ y le sacamos logaritmo natural tenemos $\\large ln(\\frac{PrecioFinal}{PrecioInicial})=rt$"
   ]
  },
  {
   "cell_type": "markdown",
   "id": "ea8dfb3f-8b13-47e2-b2d4-f76bbf3f1543",
   "metadata": {},
   "source": [
    "$\\large ln(\\frac{PrecioFinal}{PrecioInicial})=rt$"
   ]
  },
  {
   "cell_type": "markdown",
   "id": "e211b141-b638-42f1-8ac2-538a0c41f11b",
   "metadata": {
    "jp-MarkdownHeadingCollapsed": true,
    "tags": []
   },
   "source": [
    "## <font color='#2B17B0'>NO TODOS LOS RETORNOS SON IGUALES</font>"
   ]
  },
  {
   "cell_type": "code",
   "execution_count": null,
   "id": "abab94e4-74d8-4fa8-a6a7-66043094cf78",
   "metadata": {},
   "outputs": [],
   "source": [
    "activo_a = [\n",
    "    4.35,\n",
    "    4.45275,\n",
    "    4.35565,\n",
    "    4.2173,\n",
    "    4.3627,\n",
    "    4.52755,\n",
    "    4.4757,\n",
    "    4.62195,\n",
    "    4.5638,\n",
    "    4.6988,\n",
    "    4.7277,\n",
    "    4.7852,\n",
    "    4.8864,\n",
    "]\n",
    "\n",
    "activo_b = [\n",
    "    5.33,\n",
    "    5.5414,\n",
    "    5.355,\n",
    "    5.79535,\n",
    "    6.0535,\n",
    "    5.8938,\n",
    "    5.6039,\n",
    "    6.2596,\n",
    "    6.6812,\n",
    "    7.204,\n",
    "    5.99185,\n",
    "    6.1359,\n",
    "    5.7946,\n",
    "]"
   ]
  },
  {
   "cell_type": "markdown",
   "id": "55bc2741-2cef-4f5c-8d11-f12d33c6b74c",
   "metadata": {},
   "source": [
    "### Crear DataFrame `df_precios`"
   ]
  },
  {
   "cell_type": "code",
   "execution_count": null,
   "id": "865cb133-0a76-497d-9622-4102593188de",
   "metadata": {},
   "outputs": [],
   "source": []
  },
  {
   "cell_type": "markdown",
   "id": "492ed443-2589-4c82-a2e5-3bc7019aa44e",
   "metadata": {},
   "source": [
    "### Graficar los precios de `df_precios`"
   ]
  },
  {
   "cell_type": "code",
   "execution_count": null,
   "id": "a538ed81-e5a6-42b4-b413-c655ead33675",
   "metadata": {},
   "outputs": [],
   "source": []
  },
  {
   "cell_type": "markdown",
   "id": "e6820149-0b5e-49e6-8f8c-8f6cfc0852c4",
   "metadata": {},
   "source": [
    "### Crear DataFrame `df_retornos` con los retornos simples"
   ]
  },
  {
   "cell_type": "code",
   "execution_count": null,
   "id": "3faed3ec-0937-47f7-97fc-5be494c3e316",
   "metadata": {},
   "outputs": [],
   "source": []
  },
  {
   "cell_type": "code",
   "execution_count": null,
   "id": "7d7be9e1-9e7f-4881-afc6-2e28ef7e464e",
   "metadata": {},
   "outputs": [],
   "source": []
  },
  {
   "cell_type": "markdown",
   "id": "c6404768-debe-4702-8584-36f6129df936",
   "metadata": {},
   "source": [
    "### Grafica de columnas de los retornos"
   ]
  },
  {
   "cell_type": "code",
   "execution_count": null,
   "id": "9ed96fea-2dd8-4a97-8743-ea4595de75a3",
   "metadata": {},
   "outputs": [],
   "source": []
  },
  {
   "cell_type": "markdown",
   "id": "130d652b-a911-428f-9cdd-ea7c15c05112",
   "metadata": {
    "jp-MarkdownHeadingCollapsed": true
   },
   "source": [
    "## <font color='#2B17B0'>RIESGO</font>"
   ]
  },
  {
   "cell_type": "markdown",
   "id": "bcfcf928-4f41-44a0-9ec2-227c010fc64c",
   "metadata": {},
   "source": [
    "En finanzas, definimos el riesgo en series de tiempo y retornos, principalmente, a través de la Desviación Estándar, que sirve como medida de la volatilidad o variabilidad de una serie de datos. En el contexto de los retornos financieros, la Desviación Estándar cuantifica la dispersión de los retornos de una inversión respecto a su media, ofreciendo una percepción clara de la estabilidad o variabilidad en los retornos a lo largo del tiempo.\n",
    "\n",
    "Cuando los retornos de una inversión presentan una Desviación Estándar alta, se interpreta como una inversión de alto riesgo, ya que los retornos pueden variar significativamente, siendo impredecibles y oscilando ampliamente entre valores positivos y negativos. Por el contrario, una Desviación Estándar baja indica un menor riesgo, ya que los retornos tienden a ser más estables y predecibles, fluctuando en menor medida alrededor de la media."
   ]
  },
  {
   "cell_type": "markdown",
   "id": "577beeaa-895c-4d38-92ef-27dc2e6dc304",
   "metadata": {},
   "source": [
    "### Varianza"
   ]
  },
  {
   "cell_type": "markdown",
   "id": "d9b64aec-8165-4711-891a-7f68b0486cad",
   "metadata": {},
   "source": [
    "> \"_La varianza es una medida estadística cuantitativa que representa la dispersión o variabilidad de los valores en un conjunto de datos._\""
   ]
  },
  {
   "cell_type": "markdown",
   "id": "009ffee2-2b11-4915-b18f-3a391833416d",
   "metadata": {},
   "source": [
    "$$\\sigma_{R}^{2} =  \\frac{1}{N}*\\sum_{i=1}^{N}{(R - \\bar{R})^2}$$\n",
    "Donde $\\bar{R}$ es el promedio aritmérico de los retornos"
   ]
  },
  {
   "cell_type": "markdown",
   "id": "0c670899-efc5-4a0b-8b87-01d5e29d376e",
   "metadata": {},
   "source": [
    "### Desviación Estándar"
   ]
  },
  {
   "cell_type": "markdown",
   "id": "ee0eb0f7-e686-4c7f-b596-474be1fcc2e5",
   "metadata": {
    "tags": []
   },
   "source": [
    "Para medir la volatilidad eliminamos los valores elevados al cuadrado que representa la varianza, calculando la desviación estándar."
   ]
  },
  {
   "cell_type": "markdown",
   "id": "9caa22af-41d3-4ba3-9276-d8b1840ecb9d",
   "metadata": {},
   "source": [
    "$$\\sigma_{R} =  \\sqrt{\\sigma_{R}^2}=\\sqrt{\\frac{1}{N}*\\sum_{i=1}^{N}{(R - \\bar{R})^2}}$$"
   ]
  },
  {
   "cell_type": "markdown",
   "id": "66e15784-0104-4c05-bfe5-05dacef96b20",
   "metadata": {},
   "source": [
    "### Anualizar volatilidad"
   ]
  },
  {
   "cell_type": "markdown",
   "id": "3e768ba8-ec53-410d-9bfa-0414cecc3811",
   "metadata": {},
   "source": [
    "#### Pasos para anualizar volatilidad"
   ]
  },
  {
   "cell_type": "markdown",
   "id": "ead1653c-1797-4194-a00c-5b7a77f4784f",
   "metadata": {},
   "source": [
    "1. Identificar el número de periodos en un año calendario\n",
    "    1. _**NOTA:  Para el caso de retornos diarios, se considera que el año calendario es de 252 días en caso de que operen en mercados como las Bolsas de Valores**_\n",
    "1. Multiplicar la raiz cuadrada del número de periodos por su volatilidad correspondiente"
   ]
  },
  {
   "cell_type": "markdown",
   "id": "02a16b68-a042-4e8a-8083-4ac6bb12c110",
   "metadata": {},
   "source": [
    "$$\\large\\sigma_{anualizada}=\\sigma_{p}*\\sqrt{p}$$"
   ]
  },
  {
   "cell_type": "markdown",
   "id": "19eb4a84-bdfe-4603-9baf-ba3604e87d2a",
   "metadata": {
    "jp-MarkdownHeadingCollapsed": true,
    "slideshow": {
     "slide_type": "slide"
    }
   },
   "source": [
    "## <font color='#2B17B0'>LOS MERCADOS FINANCIEROS</font>"
   ]
  },
  {
   "cell_type": "markdown",
   "id": "a1b3827a-6a55-4bba-a12e-a092a26e7a7f",
   "metadata": {
    "tags": []
   },
   "source": [
    "> _Los mercados financieros son espacios, ya sea físicos o virtuales, donde se llevan a cabo transacciones de instrumentos financieros. Estos mercados permiten el intercambio de capitales entre quienes lo ofrecen y quienes lo demandan. Son fundamentales para el funcionamiento y desarrollo de economías modernas, y juegan un rol clave en la asignación de recursos y la determinación de precios de los activos financieros._"
   ]
  },
  {
   "cell_type": "markdown",
   "id": "baeed8d4-b8a6-4215-9511-374e3b5860ad",
   "metadata": {},
   "source": [
    "### Clasificación de los mercados"
   ]
  },
  {
   "cell_type": "markdown",
   "id": "9380a606-5d96-4acf-8a77-d1f3b4934870",
   "metadata": {},
   "source": [
    "#### Por estructura operativa"
   ]
  },
  {
   "cell_type": "markdown",
   "id": "48ef2059-fa09-4858-b056-e49c5dfbb554",
   "metadata": {},
   "source": [
    "* Mercados Organizados:  Poseen lugares físicos o sistemas electrónicos donde se encuentran compradores y vendedores, como las bolsas de valores."
   ]
  },
  {
   "cell_type": "markdown",
   "id": "0e2d1a5f-3d60-4278-9cb7-b159fa73275f",
   "metadata": {},
   "source": [
    "![ActaConstitutivaVOC](https://dl.dropboxusercontent.com/scl/fi/jcgsvjal7lgreskar3l2r/nyse_floor.jpg?rlkey=bxrn43b2rfpdxk6deebw5111q&dl=1)<br>\n",
    "Imagen del piso del New York Stock Exchange, tomada de internet"
   ]
  },
  {
   "cell_type": "markdown",
   "id": "8bb4cd2c-3995-4ad7-8187-22710bb9d276",
   "metadata": {},
   "source": [
    "![ActaConstitutivaVOC](https://dl.dropboxusercontent.com/scl/fi/8h4h7gy2p6kii0ol9qd9e/nasdaq_dc1.jpg?rlkey=frkua0cu8gn4ibu4swf869e0u&dl=1)<br>\n",
    "Uno de los sites de servidores del Nasdaq\n",
    "\n",
    "Imagen tomada de www.nasdaqtrader.com/Trader.aspx?id=colo"
   ]
  },
  {
   "cell_type": "markdown",
   "id": "7a430267-0d71-4141-82c4-98bfb5cb91cf",
   "metadata": {},
   "source": [
    "* Mercados OTC (over-the-counter): Las transacciones se realizan directamente entre las dos partes sin una bolsa centralizada. Muchos derivados se negocian en mercados OTC."
   ]
  },
  {
   "cell_type": "markdown",
   "id": "6ec250bd-8c9e-411f-bf43-de5a3253a45f",
   "metadata": {},
   "source": [
    "#### Por tipo de activos o instrumentos"
   ]
  },
  {
   "cell_type": "markdown",
   "id": "78dd4413-aacb-4684-af03-1ca1fe70db84",
   "metadata": {},
   "source": [
    "* Mercado de capitales: Se negocian acciones (mercado de valores) y bonos (deuda a largo plazo)\n",
    "    * Mercado primario: Se emiten nuevos títulos (IPO)\n",
    "    * Mercado secundario: Se compran y venden títulos ya emitidos previamente\n",
    "* Mercado de derivados: Se negocian contratos que derivan su valor de un activo subyacente, como futuros, opciones y swaps\n",
    "* Mercado de divisas (Forex): Se negocian monedas\n",
    "* Mercado de criptomonedas:  Se negocian criptoactivos\n",
    "    * Mercados Centralizados\n",
    "    * Mercados Desentralizados\n",
    "    * OTC"
   ]
  },
  {
   "cell_type": "markdown",
   "id": "532a076d-432b-4476-8de3-d023d556e1ff",
   "metadata": {
    "jp-MarkdownHeadingCollapsed": true,
    "slideshow": {
     "slide_type": "slide"
    }
   },
   "source": [
    "## <font color='#2B17B0'>LOS PRIMEROS</font>"
   ]
  },
  {
   "cell_type": "markdown",
   "id": "0c0dd971-9d2a-42ce-8b8e-ebb4a11a1799",
   "metadata": {},
   "source": [
    "![ActaConstitutivaVOC](https://dl.dropboxusercontent.com/scl/fi/pgqui7f3rzwqw3y7uiaox/acta_constitutiva_voc.png?rlkey=j8s8is6wclgh7cu1n6ucude91&dl=1)<br>\n",
    "Primera hoja del Acta Constitutiva de la \"The Dutch East India Company\" (VOC), Agosto 1602.  Archivo Nacional de Holanda (https://www.nationaalarchief.nl)"
   ]
  },
  {
   "cell_type": "markdown",
   "id": "cf9778ee-7654-4bbb-8df8-7a593ee8b43f",
   "metadata": {},
   "source": [
    "![Primer mercado organizado](https://dl.dropboxusercontent.com/scl/fi/xs6151dglss9xyekw5686/HendrickDeKeyserExchange.png?rlkey=4ycicmwnptmj3vibko2o6i4bp&dl=1)<br>\n",
    "Hendrick de Keyser Exchange. C.J. Visscher, c.1613.  Colección de _Stichting Capital Amsterdam_"
   ]
  },
  {
   "cell_type": "markdown",
   "id": "649997e1-4758-47ff-a0d8-7adcebae9182",
   "metadata": {},
   "source": [
    "![ActaConstitutivaVOC](https://dl.dropboxusercontent.com/scl/fi/ry7t8pvnk2lw221u7svx8/confusion_confusiones.png?rlkey=t13icbbh0rd6y9evvj6hxynty&dl=1)<br>\n",
    "Portada del libro \"Confusión de Confusiones\" por Joseph de la Vega, 1688.  Considerado como el primer libro escrito sobre la bolsa de valores.<br>|(https://www.sothebys.com/en/buy/auction/2018/fine-books-manuscripts-online/444a6a2b-a432-4728-b4d3-3f631935cfaf)"
   ]
  },
  {
   "cell_type": "markdown",
   "id": "f22c18fc-6a0f-475d-830c-afbd4d0da42f",
   "metadata": {
    "jp-MarkdownHeadingCollapsed": true
   },
   "source": [
    "## <font color='#2B17B0'>PORTAFOLIOS DE INVERSION</font>"
   ]
  },
  {
   "cell_type": "markdown",
   "id": "b0555b09-1c5e-4acf-8fb5-f81ab301d7e4",
   "metadata": {},
   "source": [
    "Un portafolio de Inversión es un grupo de activos financieros que se crea con el objetivo de generar crecimiento, ingresos, perservar el poder adquisitvo de capital y/o diversificar riesgos, entre otros. \n",
    "\n",
    "Un Portafolio financiero está compuesto por diferentes componentes como lo son acciones, Bonos, Monedas, Criptomonedas, etc."
   ]
  },
  {
   "cell_type": "markdown",
   "id": "a4adc984-379a-4f09-a8d1-1193943a3132",
   "metadata": {
    "jp-MarkdownHeadingCollapsed": true
   },
   "source": [
    "## <font color='#2B17B0'>ANALISIS EMPIRICO DE PORTAFOLIOS DE ALTA Y BAJA CAPITALIZACION DE MERCADO</font>"
   ]
  },
  {
   "cell_type": "markdown",
   "id": "5651eac0-b961-48aa-8f95-ab237123290e",
   "metadata": {},
   "source": [
    "La base de datos del Dr. Kenneth French proporciona una amplia gama de datos sobre los retornos de los portafolios de acciones, categorizados por diferentes criterios, uno de los cuales es el tamaño de capitalización del mercado (\"market cap\"). Los datos se estructuran para facilitar la investigación en finanzas empíricas, especialmente en áreas relacionadas con la valuación de activos.\n",
    "En particular, los portafolios divididos por tamaño, o \"market cap\", normalmente incluyen:\n",
    "\n",
    "* Large Cap: Empresas con alta capitalización de mercado. Estas son, generalmente, empresas grandes y bien establecidas\n",
    "* Small Cap: Empresas con baja capitalización de mercado, las cuales son usualmente empresas más pequeñas o nuevas"
   ]
  },
  {
   "cell_type": "markdown",
   "id": "19bc7b15-e487-414e-b53a-acadf45781b9",
   "metadata": {},
   "source": [
    "### Importar librerías"
   ]
  },
  {
   "cell_type": "code",
   "execution_count": null,
   "id": "a9c07ccb-a762-4731-a88b-3ab78b83adea",
   "metadata": {},
   "outputs": [],
   "source": []
  },
  {
   "cell_type": "markdown",
   "id": "810cfb8e-945c-48b2-9fbf-e284b7f6c8fe",
   "metadata": {},
   "source": [
    "### Leer datos y guardarlos en un DataFrame de pandas"
   ]
  },
  {
   "cell_type": "code",
   "execution_count": null,
   "id": "2ea9d8d0-d796-4ce7-b7f8-bb4cc183ef2b",
   "metadata": {
    "tags": []
   },
   "outputs": [],
   "source": [
    "url = 'https://mba.tuck.dartmouth.edu/pages/faculty/ken.french/ftp/Portfolios_Formed_on_ME_CSV.zip'"
   ]
  },
  {
   "cell_type": "code",
   "execution_count": null,
   "id": "b5dc04b6-bf95-4b72-ae07-3717d3d3c0c8",
   "metadata": {
    "tags": []
   },
   "outputs": [],
   "source": [
    "df = pd.read_csv(url, compression='zip', skiprows=1195, nrows=1179)"
   ]
  },
  {
   "cell_type": "code",
   "execution_count": null,
   "id": "b9f64482-aef6-4e73-82ca-c27db1537dad",
   "metadata": {},
   "outputs": [],
   "source": []
  },
  {
   "cell_type": "markdown",
   "id": "b5293b55-aee4-4cf5-ac2a-c1774ad1235e",
   "metadata": {},
   "source": [
    "### Arreglar el DataFrame"
   ]
  },
  {
   "cell_type": "code",
   "execution_count": null,
   "id": "58df2d55-4a02-45c1-aa4c-f5c58bcd9027",
   "metadata": {},
   "outputs": [],
   "source": []
  },
  {
   "cell_type": "markdown",
   "id": "d3666224-e8a4-4a70-a0e3-ce5ea3782a9d",
   "metadata": {},
   "source": [
    "### Visualizar los retornos mensuales"
   ]
  },
  {
   "cell_type": "code",
   "execution_count": null,
   "id": "2445e314-8b85-48b2-a575-13098d3914dd",
   "metadata": {},
   "outputs": [],
   "source": []
  },
  {
   "cell_type": "markdown",
   "id": "c1e0f1db-514a-4464-ac44-384710b12a65",
   "metadata": {},
   "source": [
    "### Retornos y Sigma mensual"
   ]
  },
  {
   "cell_type": "code",
   "execution_count": null,
   "id": "88edccb8-9988-4b0a-8064-b21b89ca01d8",
   "metadata": {},
   "outputs": [],
   "source": []
  },
  {
   "cell_type": "markdown",
   "id": "6aeaac2d-278b-40d4-bafb-4af62ad67366",
   "metadata": {},
   "source": [
    "\n",
    "Retorno Riesgo = $\\Large \\frac{Retorno}{Volatilidad}$"
   ]
  },
  {
   "cell_type": "code",
   "execution_count": null,
   "id": "b331ec0c-7345-43c1-b81e-f39e5fe6da99",
   "metadata": {},
   "outputs": [],
   "source": []
  },
  {
   "cell_type": "markdown",
   "id": "793ee296-c0df-4329-8ac1-874ef74bc189",
   "metadata": {},
   "source": [
    "El análisis de retorno por cada unidad de riesgo asumida es crucial porque permite evaluar la eficiencia de una inversión al ponderar el rendimiento con el nivel de riesgo inherente. Sin embargo, al omitir la tasa libre de riesgo en este análisis, estamos ignorando un componente vital en la evaluación del rendimiento ajustado al riesgo. Es decir,  estamos omitiendo una comparación fundamental con la opción de una inversión sin riesgo, normalmente representada por bonos del Tesoro que ofrecen un retorno con un riesgo prácticamente nulo. Este componente es vital porque cualquier inversión debería, como mínimo, superar el rendimiento que se podría obtener sin asumir riesgo alguno."
   ]
  },
  {
   "cell_type": "markdown",
   "id": "a8097736-5c70-4823-b8ef-da3841a2d0e8",
   "metadata": {},
   "source": [
    "### Sharp Ratio"
   ]
  },
  {
   "cell_type": "markdown",
   "id": "f5fe906b-46b9-4203-8e39-36755fca5e02",
   "metadata": {},
   "source": [
    "$$\\large Sharp=\\frac{Retorno - TasaLibreRiesgo}{Volatilidad}$$<br><br>\n",
    "Al incluir la tasa libre de riesgo, proporciona una evaluación más equilibrada y realista de la eficiencia de una inversión. Mide cuánto rendimiento adicional se obtiene por cada unidad de riesgo asumida en comparación con una inversión sin riesgo. Así, permite discernir si el rendimiento adicional obtenido justifica el riesgo adicional asumido.<br><br>"
   ]
  },
  {
   "cell_type": "markdown",
   "id": "1a903f46-ef4c-43f2-98fd-449896f20c5d",
   "metadata": {},
   "source": [
    "#### Anualizar retornos:"
   ]
  },
  {
   "cell_type": "code",
   "execution_count": null,
   "id": "df8830ad-c64c-4542-a313-faa41e085d3a",
   "metadata": {},
   "outputs": [],
   "source": []
  },
  {
   "cell_type": "markdown",
   "id": "f74cd288-791f-4855-83f6-8bda4253d67a",
   "metadata": {},
   "source": [
    "#### Anualizar sigma:"
   ]
  },
  {
   "cell_type": "code",
   "execution_count": null,
   "id": "b60f9d6a-7abc-4fec-9d5c-0fcd71b7ba5f",
   "metadata": {},
   "outputs": [],
   "source": []
  },
  {
   "cell_type": "markdown",
   "id": "2268b937-ccd1-4e0a-a263-39a7c153f3e6",
   "metadata": {},
   "source": [
    "#### Calcuar SharpRatio"
   ]
  },
  {
   "cell_type": "code",
   "execution_count": null,
   "id": "e1d9ae08-e47c-4a16-9a8f-206b08b9cf67",
   "metadata": {},
   "outputs": [],
   "source": []
  },
  {
   "cell_type": "markdown",
   "id": "29aaad31-1802-488f-9ad1-102aa5cad562",
   "metadata": {},
   "source": [
    "El número de eventos con un retorno negativo igual o mayor a -15%:"
   ]
  },
  {
   "cell_type": "markdown",
   "id": "e58bd6c3-300c-498e-9934-f571bf000cc9",
   "metadata": {
    "jp-MarkdownHeadingCollapsed": true
   },
   "source": [
    "## <font color='#2B17B0'>LIBRERIA yfinance</font>"
   ]
  },
  {
   "cell_type": "markdown",
   "id": "9a073cf0-e705-451c-bc6d-2b473adc1012",
   "metadata": {},
   "source": [
    "https://pypi.org/project/yfinance/ <br>\n",
    "https://github.com/ranaroussi/yfinance <br>\n",
    "\n",
    "yFinance es una librería que nos permite accesar a los datos financieros que se publican en Yahoo! Finance.\n",
    "* Datos históricos\n",
    "* Información detallada de una acción\n",
    "* Datos de dividendos/splits\n",
    "* Detalle de los reportes financieros\n",
    "\n",
    "Es importante tener en cuenta que es una herramienta gratuita no afiliada con Yahoo!Finance y en cualquier momento puede dejar de funcionar."
   ]
  },
  {
   "cell_type": "markdown",
   "id": "fb574098-bbf3-4c62-9185-3ffd52e0e670",
   "metadata": {},
   "source": [
    "### Datos históricos"
   ]
  },
  {
   "cell_type": "code",
   "execution_count": null,
   "id": "bf8b81d6-d598-4a05-9600-d9e0833aaff1",
   "metadata": {},
   "outputs": [],
   "source": [
    "import yfinance as yf"
   ]
  },
  {
   "cell_type": "code",
   "execution_count": null,
   "id": "fc55d136-8d74-4093-95d5-63ced5aac67b",
   "metadata": {},
   "outputs": [],
   "source": []
  },
  {
   "cell_type": "markdown",
   "id": "a3fc226f-48c7-4bfb-a22d-963b04596bb8",
   "metadata": {},
   "source": [
    "### Información detallada"
   ]
  },
  {
   "cell_type": "code",
   "execution_count": null,
   "id": "8e270e5d-7434-404f-8429-da36e07df81d",
   "metadata": {},
   "outputs": [],
   "source": []
  },
  {
   "cell_type": "markdown",
   "id": "ad5ba365-f69d-41f8-b6fb-611a25c1ed56",
   "metadata": {},
   "source": [
    "### Dividendos/splits"
   ]
  },
  {
   "cell_type": "code",
   "execution_count": null,
   "id": "7d629bba-1996-4c91-a847-12df3ace8048",
   "metadata": {},
   "outputs": [],
   "source": []
  },
  {
   "cell_type": "markdown",
   "id": "abeda739-41ff-4d27-a4f2-5afb7e06e791",
   "metadata": {},
   "source": [
    "### Reportes financieros"
   ]
  },
  {
   "cell_type": "markdown",
   "id": "df71680a-7e06-4a0d-9b83-f942f370d97b",
   "metadata": {},
   "source": [
    "#### Balance General"
   ]
  },
  {
   "cell_type": "code",
   "execution_count": null,
   "id": "38cac0ed-893e-46bf-8d61-9381d9efc9ab",
   "metadata": {},
   "outputs": [],
   "source": []
  },
  {
   "cell_type": "markdown",
   "id": "1025ef37-9a90-46fd-afab-d2dde5dacdbc",
   "metadata": {},
   "source": [
    "#### Estado de Resultados"
   ]
  },
  {
   "cell_type": "code",
   "execution_count": null,
   "id": "bf1f286d-3d09-422f-8c9b-3c5e889562e8",
   "metadata": {},
   "outputs": [],
   "source": []
  },
  {
   "cell_type": "markdown",
   "id": "eb9e9429-fa88-4af2-b2c6-f49f31258e8c",
   "metadata": {},
   "source": [
    "### Usar dos o más acciones"
   ]
  },
  {
   "cell_type": "code",
   "execution_count": null,
   "id": "87a9bf8e-7a5b-4b29-9dfc-af9be6f97028",
   "metadata": {},
   "outputs": [],
   "source": [
    "lista_tickers = [\n",
    "    'MA',    # Master Card\n",
    "    'AMZN',  # Amazon\n",
    "    'MCD',   # McDonalds\n",
    "    'CVX',   # Chevron\n",
    "    'DAL',   # Delta Airlines (reemplazo de COP)\n",
    "    'NKE',   # Nike\n",
    "    'INTC'   # Intel\n",
    "]"
   ]
  },
  {
   "cell_type": "code",
   "execution_count": null,
   "id": "67b54cd3-7581-427a-9c00-6ff1aee2896e",
   "metadata": {},
   "outputs": [],
   "source": []
  },
  {
   "cell_type": "markdown",
   "id": "b0abce8c-d150-459d-b602-b13c97b7de26",
   "metadata": {},
   "source": [
    "### Graficar DataFrame"
   ]
  },
  {
   "cell_type": "code",
   "execution_count": null,
   "id": "0ec12eb1-7781-42ea-8cbe-e196e41774cd",
   "metadata": {},
   "outputs": [],
   "source": []
  },
  {
   "cell_type": "markdown",
   "id": "dc6abd5f-8992-48e3-b26b-3bccbfa50259",
   "metadata": {},
   "source": [
    "### Graficar DataFrame Normalizado"
   ]
  },
  {
   "cell_type": "code",
   "execution_count": null,
   "id": "db7143fc-a481-46c3-a36d-112e6df502b8",
   "metadata": {},
   "outputs": [],
   "source": []
  },
  {
   "cell_type": "markdown",
   "id": "7e14a003-5e5d-4995-9430-3290f004476a",
   "metadata": {},
   "source": [
    "### Slice DataFrame a partir del 2018"
   ]
  },
  {
   "cell_type": "code",
   "execution_count": null,
   "id": "4182e7fa-29dc-4ad1-b9b0-2497bc866470",
   "metadata": {},
   "outputs": [],
   "source": []
  },
  {
   "cell_type": "markdown",
   "id": "a1464c87-d3f1-44e3-b917-97edd1a64296",
   "metadata": {},
   "source": [
    "### Normalizar DataFrame Base 0"
   ]
  },
  {
   "cell_type": "code",
   "execution_count": null,
   "id": "c3781779-fe6b-421c-9792-b63bf9472680",
   "metadata": {},
   "outputs": [],
   "source": [
    "df_base0 = df_18 / df_18.iloc[0] - 1"
   ]
  },
  {
   "cell_type": "markdown",
   "id": "2bad682d-2c44-4170-9797-8b2e02a039c4",
   "metadata": {},
   "source": [
    "#### Gráfica Base 0"
   ]
  },
  {
   "cell_type": "markdown",
   "id": "24cb899b-f015-422f-b705-267152b68e8f",
   "metadata": {},
   "source": [
    "### Visualizar los retornos de AMAZON, MASTER CARD, McDONALDS, UNITED AIRLINES"
   ]
  },
  {
   "cell_type": "markdown",
   "id": "3f50ccf3-5d4e-4f14-8932-98392cfa2801",
   "metadata": {},
   "source": [
    "1. Crear DataFrame con los precios de la acción\n",
    "2. Calcular LogReturns\n",
    "3. Graficar cada acción"
   ]
  },
  {
   "cell_type": "markdown",
   "id": "3feb01ce-9070-4aa0-ab1d-1409db5c0e9a",
   "metadata": {},
   "source": [
    "#### 1., 2. Crear DataFrame para cada acción y calcular sus retornos"
   ]
  },
  {
   "cell_type": "code",
   "execution_count": null,
   "id": "d9fdfc90-149f-4af2-aca0-ed6c80594d81",
   "metadata": {},
   "outputs": [],
   "source": [
    "master_card = df_datos['Adj Close']['MA'].copy().to_frame()\n",
    "mcdonalds = df_datos['Adj Close']['MCD'].copy().to_frame()\n",
    "amazon = df_datos['Adj Close']['AMZN'].copy().to_frame()\n",
    "united = df_datos['Adj Close']['DAL'].copy().to_frame()"
   ]
  },
  {
   "cell_type": "code",
   "execution_count": null,
   "id": "67fd8fcf-5d3e-47d0-9fbb-1d7a83decc13",
   "metadata": {},
   "outputs": [],
   "source": []
  },
  {
   "cell_type": "markdown",
   "id": "779b232c-b8c0-4a38-a94b-f36b09521c71",
   "metadata": {},
   "source": [
    "#### 3. Graficar retornos de cada acción"
   ]
  },
  {
   "cell_type": "code",
   "execution_count": null,
   "id": "cf6d2db2-e3d5-41d5-aad7-d6338aa68a0e",
   "metadata": {},
   "outputs": [],
   "source": []
  }
 ],
 "metadata": {
  "kernelspec": {
   "display_name": "Python 3 (ipykernel)",
   "language": "python",
   "name": "python3"
  },
  "language_info": {
   "codemirror_mode": {
    "name": "ipython",
    "version": 3
   },
   "file_extension": ".py",
   "mimetype": "text/x-python",
   "name": "python",
   "nbconvert_exporter": "python",
   "pygments_lexer": "ipython3",
   "version": "3.12.7"
  }
 },
 "nbformat": 4,
 "nbformat_minor": 5
}
