{
 "cells": [
  {
   "cell_type": "markdown",
   "id": "74a68f58-52f6-4be5-8e1c-60499398dc9e",
   "metadata": {},
   "source": [
    "# <font color='#2B17B0'>CIENCIA DE DATOS APLICADA A FINANZAS</font>\n",
    "Sesión 9, 2024-11-05<br>\n",
    "Carlos Crespo Elizondo, MSF<br>\n",
    "EGADE BUSINESS SCHOOL"
   ]
  },
  {
   "cell_type": "markdown",
   "id": "778e5c48-776e-40ec-8a2d-32f68740342a",
   "metadata": {
    "jp-MarkdownHeadingCollapsed": true
   },
   "source": [
    "### <font color='#2B17B0'>Librerías iniciales</font>"
   ]
  },
  {
   "cell_type": "code",
   "execution_count": null,
   "id": "51c53d73-80c0-4b75-835c-48450af3b8af",
   "metadata": {},
   "outputs": [],
   "source": [
    "import pandas as pd\n",
    "import matplotlib.pyplot as plt\n",
    "import seaborn as sns\n",
    "import numpy as np\n",
    "\n",
    "sns.set_style('darkgrid')"
   ]
  },
  {
   "cell_type": "markdown",
   "id": "0c731ac5-2d02-48e3-93b9-11e2efbd56d9",
   "metadata": {
    "jp-MarkdownHeadingCollapsed": true
   },
   "source": [
    "# <font color='#2B17B0'>1. TIPOS DE ESTRUCTURAS DE DATOS DE PYTHON</font>"
   ]
  },
  {
   "cell_type": "markdown",
   "id": "551375b1-ecc9-48f9-ae11-f460a3ae35d1",
   "metadata": {},
   "source": [
    "Estructuras de datos en python más comunes:\n",
    "1. Listas\n",
    "2. Tuplas\n",
    "3. Diccionarios\n",
    "4. Set\n",
    "5. Strings*\n",
    "6. Bytes"
   ]
  },
  {
   "cell_type": "markdown",
   "id": "83114caf-c54e-4829-8a8e-c5f009422779",
   "metadata": {
    "jp-MarkdownHeadingCollapsed": true
   },
   "source": [
    "# <font color='#2B17B0'>2. DICCIONARIOS</font>"
   ]
  },
  {
   "cell_type": "markdown",
   "id": "d1c5bfe5-9f20-4832-adae-84f6f69fb3ec",
   "metadata": {},
   "source": [
    "* Es un grupo de \"**cosas**\" SIN un órden particular.\n",
    "* Los datos estás agrupados por nombre (`key`) y un valor asignado a su llave (`value`)\n",
    "* Puede tener caracterés alfanuméricos, numéricos, etc.\n",
    "* Los `{ }` definen a un diccionario.\n",
    "* Cada elemento del diccionario es separado por una '`,`'.\n",
    "* Para accesar a algún elemento del diccionario lo hacemos a través de su llave."
   ]
  },
  {
   "cell_type": "code",
   "execution_count": null,
   "id": "8c8d3d15-5b6a-4a1c-983f-4e00b8006dee",
   "metadata": {},
   "outputs": [],
   "source": [
    "dicc_ticker_criptos = {\n",
    "    'bitcoin': 'BTC',\n",
    "    'etherum': 'ETH',\n",
    "    'tether': 'USDT',\n",
    "    'solana': 'SOL',\n",
    "}"
   ]
  },
  {
   "cell_type": "code",
   "execution_count": null,
   "id": "88c7ab29-7a92-4584-a9a7-0d5f26b6a452",
   "metadata": {},
   "outputs": [],
   "source": [
    "dicc_ticker_criptos['bitcoin']"
   ]
  },
  {
   "cell_type": "code",
   "execution_count": null,
   "id": "79b116b5-fb8f-488a-8409-39b6ae0183db",
   "metadata": {},
   "outputs": [],
   "source": [
    "dicc_ticker_criptos.keys()"
   ]
  },
  {
   "cell_type": "code",
   "execution_count": null,
   "id": "105be5db-4743-4859-bb26-2ea52c763d91",
   "metadata": {},
   "outputs": [],
   "source": [
    "dicc_ticker_criptos.values()"
   ]
  },
  {
   "cell_type": "code",
   "execution_count": null,
   "id": "15f63272-83dd-4001-a6f7-49334f4c9454",
   "metadata": {},
   "outputs": [],
   "source": [
    "for llave, valor in dicc_ticker_criptos.items():\n",
    "    print(f'Este es la llave \"{llave}\" y este es su valor \"{valor}\"')"
   ]
  },
  {
   "cell_type": "code",
   "execution_count": null,
   "id": "eefb88a0-5259-48db-ab3b-76e7f71106e5",
   "metadata": {},
   "outputs": [],
   "source": [
    "dicc_criptos = {\n",
    "    'BTC': {\n",
    "        'cripto': 'Bitcoin',\n",
    "        'ultimo_precio': 98000,\n",
    "        'ultimos_precios': [98000, 97950, 97930, 97920],\n",
    "        'cap_mercado': 1.94\n",
    "    },\n",
    "    'ETH':{\n",
    "        'cripto': 'Etherum',\n",
    "        'ultimo_precio': 3450,\n",
    "        'ultimos_precios': [3450, 3460, 3470, 3460],\n",
    "        'cap_mercado': 0.411\n",
    "    },\n",
    "    'USDT':{\n",
    "        'cripto': 'Tether',\n",
    "        'ultimo_precio': 1.0000,\n",
    "        'ultimos_precios': [1.0000, 1.0000, 0.9999, 1.0001],\n",
    "        'cap_mercado': 0.132\n",
    "    },\n",
    "    'SOL':{\n",
    "        'cripto': 'Solana',\n",
    "        'ultimo_precio': 250,\n",
    "        'ultimos_precios': [250, 251, 248, 249, 249],\n",
    "        'cap_mercado': 0.121\n",
    "    },\n",
    "}"
   ]
  },
  {
   "cell_type": "code",
   "execution_count": null,
   "id": "339ebe50-09be-4aa3-8bd5-1d1b600facbb",
   "metadata": {},
   "outputs": [],
   "source": [
    "for cripto, valor in dicc_criptos.items():\n",
    "    print(cripto, valor)"
   ]
  },
  {
   "cell_type": "code",
   "execution_count": null,
   "id": "2eff9574-aabd-475a-8cbc-028e9c340a11",
   "metadata": {},
   "outputs": [],
   "source": [
    "dicc_criptos['SOL']"
   ]
  },
  {
   "cell_type": "code",
   "execution_count": null,
   "id": "94d82688-7902-4a97-8aea-4c0494044908",
   "metadata": {},
   "outputs": [],
   "source": [
    "dicc_criptos['SOL']['ultimo_precio']"
   ]
  },
  {
   "cell_type": "code",
   "execution_count": null,
   "id": "2f7792b5-406d-4e4d-b1de-c9dfdc2e80db",
   "metadata": {},
   "outputs": [],
   "source": [
    "dicc_criptos['SOL']['ultimos_precios']"
   ]
  },
  {
   "cell_type": "code",
   "execution_count": null,
   "id": "20b49cab-fed5-45d1-a83e-13970c6f72ca",
   "metadata": {},
   "outputs": [],
   "source": [
    "dicc_criptos['SOL']['ultimos_precios'][-1]"
   ]
  },
  {
   "cell_type": "code",
   "execution_count": null,
   "id": "6fac790f-8841-4360-97c7-79d782075314",
   "metadata": {},
   "outputs": [],
   "source": [
    "for cripto, valor in dicc_criptos.items():\n",
    "    print(f'Los últimos precios de {cripto} son:')\n",
    "    lista_precios = valor['ultimos_precios']\n",
    "    for precio in lista_precios:\n",
    "        print(f'\\t{precio}')"
   ]
  },
  {
   "cell_type": "markdown",
   "id": "d41caddd-7826-4927-a4c0-3fe1c3c46624",
   "metadata": {
    "jp-MarkdownHeadingCollapsed": true
   },
   "source": [
    "# <font color='#2B17B0'>3. ARCHIVOS JSON</font>"
   ]
  },
  {
   "cell_type": "markdown",
   "id": "873ad080-80a1-4a07-83af-cc3aa6176bf6",
   "metadata": {
    "jp-MarkdownHeadingCollapsed": true
   },
   "source": [
    "## <font color='#2B17B0'>3.1 ¿Qué es JSON?</font>"
   ]
  },
  {
   "cell_type": "markdown",
   "id": "e7f6e259-32b0-4716-85da-0b7632831916",
   "metadata": {},
   "source": [
    "> *JSON (JavaScript Object Notation) es un formato basado en texto para almacenar e intercambiar datos de una manera que es legible por humanos y analizable por máquina.  La naturaleza independiente del lenguaje de JSON lo convierte en un formato ideal para intercambiar datos a través de diferentes lenguajes de programación y plataformas. Más allá del desarrollo web, JSON se utiliza a menudo dentro de una aplicación o un sistema de TI para almacenar y gestionar los valores de configuración.*"
   ]
  },
  {
   "cell_type": "markdown",
   "id": "ca1b0602-a03f-40d2-ad68-20de41719a7e",
   "metadata": {},
   "source": [
    "Si sabes manipular un diccionario de Python, sabes manipular un objeto de Json"
   ]
  },
  {
   "cell_type": "markdown",
   "id": "e0da13ec-6d84-4c16-8e39-acef3f4122a4",
   "metadata": {
    "jp-MarkdownHeadingCollapsed": true
   },
   "source": [
    "## <font color='#2B17B0'>3.2 Serialización / Deserialización</font>"
   ]
  },
  {
   "cell_type": "markdown",
   "id": "88d68f5d-405d-4fd5-8cbd-f0f8c988ec32",
   "metadata": {},
   "source": [
    "Por lo general los archivos de json vienen en formato de texto (serializado).  Por lo cual es necesario deserializarlo para poderlo manipular como un diccionario:"
   ]
  },
  {
   "cell_type": "code",
   "execution_count": null,
   "id": "ba50b225-779d-4f55-8329-a9921d4ece78",
   "metadata": {},
   "outputs": [],
   "source": [
    "ejemplo_json_serializado = '{\"simbolo\": \"BTC\", \"precio\": 98000}'\n",
    " "
   ]
  },
  {
   "cell_type": "code",
   "execution_count": null,
   "id": "c64fc7e7-1458-4fb0-9fdf-19d48d650ca5",
   "metadata": {
    "scrolled": true
   },
   "outputs": [],
   "source": [
    "ejemplo_json_serializado['simbolo']"
   ]
  },
  {
   "cell_type": "markdown",
   "id": "6cd49fea-7434-4f13-ac4f-8132dc0096be",
   "metadata": {},
   "source": [
    "### <font color='#2B17B0'>Importar librería JSON</font>"
   ]
  },
  {
   "cell_type": "code",
   "execution_count": null,
   "id": "29622c21-c872-4b77-adf8-bec77dc14bcb",
   "metadata": {},
   "outputs": [],
   "source": [
    "import json"
   ]
  },
  {
   "cell_type": "markdown",
   "id": "006528f4-befe-44b7-b189-c6ad527ca1cd",
   "metadata": {},
   "source": [
    "### <font color='#2B17B0'>Cargar JSON de origen</font>"
   ]
  },
  {
   "cell_type": "code",
   "execution_count": null,
   "id": "9816aaf0-6f45-4208-8c86-9d23c1935f0d",
   "metadata": {},
   "outputs": [],
   "source": [
    "dicc_json = json.loads(string_json)"
   ]
  },
  {
   "cell_type": "code",
   "execution_count": null,
   "id": "653d1000-678a-42da-98be-aded965ef519",
   "metadata": {},
   "outputs": [],
   "source": [
    "dicc_json['simbolo']"
   ]
  },
  {
   "cell_type": "markdown",
   "id": "0193652f-b7fd-4ef5-83ba-a9be1d71e708",
   "metadata": {},
   "source": [
    "### <font color='#2B17B0'>Serializar `json.dumps()`</font>"
   ]
  },
  {
   "cell_type": "code",
   "execution_count": null,
   "id": "e7ddea50-8a8e-40fb-a1ae-e3a3ab419488",
   "metadata": {},
   "outputs": [],
   "source": [
    "nuevo_json = json.dumps(dicc_json)"
   ]
  },
  {
   "cell_type": "code",
   "execution_count": null,
   "id": "acb30c22-6a2c-448a-b870-c8f0581ac900",
   "metadata": {},
   "outputs": [],
   "source": [
    "nuevo_json"
   ]
  },
  {
   "cell_type": "markdown",
   "id": "e49e752e-e449-4da2-b1ec-962cb66fdbb2",
   "metadata": {
    "jp-MarkdownHeadingCollapsed": true
   },
   "source": [
    "# <font color='#2B17B0'>4. APIs</font>\n"
   ]
  },
  {
   "cell_type": "markdown",
   "id": "89bd7388-0179-4dae-aa16-fb8b9c5f2c63",
   "metadata": {},
   "source": [
    "## <font color='#2B17B0'>4.1 Que es un API</font>\n"
   ]
  },
  {
   "cell_type": "markdown",
   "id": "fb6b1333-65da-4ebf-a444-61e4f49bfd7c",
   "metadata": {},
   "source": [
    "> _API: \"(Application Programming Interface) es un set de reglas y protocolos que permite que un software pueda interactuar con otro.  Define los métodos y la estructura de datos que las aplicaciones utilizan para comunicarse entre si\"_  <br>\n",
    "Chat GPT-4o"
   ]
  },
  {
   "cell_type": "markdown",
   "id": "cb749c63-b603-476e-b07c-80ae5dceb8cf",
   "metadata": {},
   "source": [
    "## <font color='#2B17B0'>4.2 Tipos de APIs</font>\n"
   ]
  },
  {
   "cell_type": "markdown",
   "id": "f2bdd72c-b7bd-49c0-ab42-30c9e744a21b",
   "metadata": {},
   "source": [
    "* _Web_:  Se usan para interactuar con servicios web (protocolos HTTP/HTTPS).\n",
    "* _Librerias_:  Publicadas por las librerías para permitir el uso de sus funciones.\n",
    "* _Sistema Operativo_:  Permite que una aplicación pueda interactuar con el OS.\n",
    "* _Base de Datos_:  Permite la comunicación entre una aplicación y el administrador de la BD."
   ]
  },
  {
   "cell_type": "markdown",
   "id": "372b9498-c578-4503-a76a-63fac5e7e896",
   "metadata": {
    "jp-MarkdownHeadingCollapsed": true
   },
   "source": [
    "## <font color='#2B17B0'>4.3 Como funcionan las APIs</font>\n"
   ]
  },
  {
   "cell_type": "markdown",
   "id": "1afc27e0-cdd6-4f78-b7f1-c106d8ceae1e",
   "metadata": {},
   "source": [
    "### <font color='#2B17B0'>Componentes</font>\n"
   ]
  },
  {
   "cell_type": "markdown",
   "id": "b8fa97b2-8b65-464b-b82b-b31315a50ad9",
   "metadata": {},
   "source": [
    "1. _Endpoint_:  Especificar URL para accesar al API.\n",
    "1. _Request_:  La llamada que el cliente hace al **endpoint**.  Por lo general incluye parámetros.\n",
    "1. _Response_:  Los datos que el API regresa al cliente.\n",
    "1. _Methods_:  Las acciones que puedes hacer através del API como:\n",
    "    * Get:  Obtener datos.\n",
    "    * Post:  Subir datos.\n",
    "    * Put:  Actualizar registros  o crearlo en caso de que no exista\n",
    "    * Delete:  Eliminar registros"
   ]
  },
  {
   "cell_type": "markdown",
   "id": "e8a71c8c-8244-4706-ad3c-8be14d007676",
   "metadata": {
    "jp-MarkdownHeadingCollapsed": true
   },
   "source": [
    "## <font color='#2B17B0'>4.4 Web APIs</font>\n"
   ]
  },
  {
   "cell_type": "markdown",
   "id": "9185d671-b850-4207-b2c8-fa71af567ed8",
   "metadata": {},
   "source": [
    "1. Por lo general utilizan los protocolos de comunicación HTTP / HTTPS\n",
    "2. Existen varias arquitecturas, las más usadas son:\n",
    "    1. REST (Representational State Transfer)\n",
    "    2. SOAP (Simple Object Access Protocol)"
   ]
  },
  {
   "cell_type": "markdown",
   "id": "7514916d-6cf7-4107-ba83-ae32a13c2208",
   "metadata": {},
   "source": [
    "### <font color='#2B17B0'>Ejemplo:  Usar los APIs del Banco de México </font>\n",
    "OBJETIVO:  Cargar la serie histórica del tipo de cambio **MXN/USD** en Jupyter.<br><br>\n",
    "DOS MÉTODOS PARA HACERLO:\n",
    "1. Manera manual\n",
    "1. Manera Automatizada"
   ]
  },
  {
   "cell_type": "markdown",
   "id": "c7c043a1-d959-4b3a-9dcd-dbc7f7f6bbc7",
   "metadata": {},
   "source": [
    "#### Buscar la información en la página de Banxico y cargarla en Jupyter"
   ]
  },
  {
   "cell_type": "markdown",
   "id": "9d795e6e-a736-4d39-abcf-38c85a6a2eb0",
   "metadata": {},
   "source": [
    "https://www.banxico.org.mx <br>\n",
    "https://www.banxico.org.mx/SieAPIRest/service/v1/"
   ]
  },
  {
   "cell_type": "markdown",
   "id": "5c4cda39-ffb2-4394-8c84-bacaa0f74002",
   "metadata": {},
   "source": [
    "#### <font color='#2B17B0'>Hacer conexión al API utilizando Postman</font>\n"
   ]
  },
  {
   "cell_type": "markdown",
   "id": "4bab80ba-3d51-482c-95b8-469c08570d90",
   "metadata": {},
   "source": [
    "* Postman es un programa en el que podemos desarrollar y/o probar APIs\n",
    "* Descargarlo en la siguiente dirección:<br>\n",
    "  https://web.postman.co\n"
   ]
  },
  {
   "cell_type": "markdown",
   "id": "db8cc81d-8349-4fcc-bf7f-23730a816e28",
   "metadata": {},
   "source": [
    "#### <font color='#2B17B0'>Hacer conexión al API utilizando Librería Request</font>\n"
   ]
  },
  {
   "cell_type": "markdown",
   "id": "1e6d7c06-bda6-46cc-b249-73ff22b24390",
   "metadata": {},
   "source": [
    "> _Request es una librería de Python que se usa para hacer llamadas HTTP_"
   ]
  },
  {
   "cell_type": "markdown",
   "id": "ee4c8c15-633b-4406-8e01-054c8a7c6d5d",
   "metadata": {},
   "source": [
    "#### <font color='#2B17B0'>Importar librería Request</font>\n"
   ]
  },
  {
   "cell_type": "code",
   "execution_count": null,
   "id": "2a107d61-ec5d-4d19-b3f7-c65a8fec3032",
   "metadata": {},
   "outputs": [],
   "source": [
    "import requests\n"
   ]
  },
  {
   "cell_type": "markdown",
   "id": "d3c83578-d79d-4ae8-a507-d4ef43940ecc",
   "metadata": {},
   "source": [
    "Pasos para usar hacer una llamda con la librería Request:\n",
    "1. Importar librería\n",
    "2. Definir la URL a donde se hará la llamada\n",
    "3. Realizar la llamada"
   ]
  },
  {
   "cell_type": "markdown",
   "id": "efa6195a-63b5-4df4-828b-58d0af2b1dc8",
   "metadata": {},
   "source": [
    "Una vez hecho el `request`, la función regresa un objeto 'Response' (respuespuesta del servidor). Estos son algunos de los atributos del objeto `Response`:\n",
    "| **Atributo**        | **Tipo**                     | **Descripción**                                                                 |\n",
    "|----------------------|------------------------------|---------------------------------------------------------------------------------|\n",
    "| `status_code`        | `int`                       | Código de estado HTTP de la respuesta (por ejemplo, 200, 404).                  |\n",
    "| `headers`            | `dict`                      | Encabezados de la respuesta.                               |\n",
    "| `content`            | `bytes`                     | Contenido sin procesar de la respuesta en formato binario.                     |\n",
    "| `text`               | `str`                       | Contenido de la respuesta decodificado.                             |\n",
    "| `json()`             | `método`                    | Decodifica el contenido de la respuesta como JSON (si es válido).              |\n",
    "| `url`                | `str`                       | URL final después de redirecciones (si las hubo).                              |\n",
    "| `history`            | `list`                      | Lista de objetos `Response` para redirecciones previas en la solicitud.        |\n",
    "| `cookies`            | `RequestsCookieJar`         | Cookies enviadas por el servidor.                                              |\n",
    "| `elapsed`            | `timedelta`                 | Tiempo transcurrido desde el envío de la solicitud hasta recibir la respuesta. |\n",
    "| `reason`             | `str`                       | Mensaje asociado con el código de estado HTTP (por ejemplo, \"OK\", \"Not Found\").|\n",
    "| `encoding`           | `str`                       | Codificación utilizada para decodificar el contenido (puedes cambiarla).       |\n",
    "| `raw`                | `urllib3.response.HTTPResponse` | Respuesta en bruto desde la biblioteca `urllib3`.                              |\n",
    "| `raise_for_status()` | `método`                    | Lanza una excepción si la respuesta tiene un código de error (4xx o 5xx).      |\n",
    "| `is_redirect`        | `bool`                      | Indica si la respuesta es una redirección.                                     |\n",
    "| `is_permanent_redirect` | `bool`                  | Indica si la redirección es permanente (código 301).                           |\n"
   ]
  },
  {
   "cell_type": "code",
   "execution_count": null,
   "id": "72adc981-ab33-43ac-a043-862eb114f973",
   "metadata": {},
   "outputs": [],
   "source": [
    "url = 'https://www.banxico.org.mx/SieAPIRest/service/v1/series/SF63528/datos'"
   ]
  },
  {
   "cell_type": "code",
   "execution_count": null,
   "id": "252b6458-88ca-4409-aaca-f31adfb7b6c6",
   "metadata": {},
   "outputs": [],
   "source": [
    "token = '1c5115fdadc1067f5c88ebfd08766731284c00687c87b88120791b996fb116b3' # token cancelado\n",
    "#token = '4e7e5dbd1d8752581633d7eecd0512c3398d1719a816bf86f3b5eb244a6e0502' # token habilitado para la clase\n",
    "headers = {\n",
    "    'Bmx-Token': token\n",
    "}"
   ]
  },
  {
   "cell_type": "code",
   "execution_count": null,
   "id": "24bbfd12-db45-48f5-8550-bca53504ed37",
   "metadata": {},
   "outputs": [],
   "source": [
    "respuesta = requests.get(url, headers=headers)"
   ]
  },
  {
   "cell_type": "code",
   "execution_count": null,
   "id": "3c440940-1c12-4530-b504-f84120355e1e",
   "metadata": {},
   "outputs": [],
   "source": [
    "respuesta.status_code"
   ]
  },
  {
   "cell_type": "code",
   "execution_count": null,
   "id": "a006548f-147a-40de-be42-b826b251599a",
   "metadata": {},
   "outputs": [],
   "source": [
    "respuesta.headers"
   ]
  },
  {
   "cell_type": "code",
   "execution_count": null,
   "id": "a2a4d8da-447e-491d-8e43-504add358a59",
   "metadata": {},
   "outputs": [],
   "source": [
    "respuesta.cookies"
   ]
  },
  {
   "cell_type": "code",
   "execution_count": null,
   "id": "9e4bec21-0650-4a57-8a39-27274470af46",
   "metadata": {},
   "outputs": [],
   "source": [
    "respuesta.reason\n"
   ]
  },
  {
   "cell_type": "code",
   "execution_count": null,
   "id": "c4cbce10-9014-4f3e-a6d4-8cb94ee7b8fa",
   "metadata": {
    "scrolled": true
   },
   "outputs": [],
   "source": [
    "print(respuesta.content)"
   ]
  },
  {
   "cell_type": "code",
   "execution_count": null,
   "id": "5b27288d-5271-48ba-a724-2aa900570741",
   "metadata": {
    "scrolled": true
   },
   "outputs": [],
   "source": [
    "print(respuesta.json())"
   ]
  },
  {
   "cell_type": "code",
   "execution_count": null,
   "id": "6c9e903d-600e-464e-9284-be44c7e17d52",
   "metadata": {},
   "outputs": [],
   "source": [
    "datos = respuesta.json()"
   ]
  },
  {
   "cell_type": "code",
   "execution_count": null,
   "id": "a2b9cec1-a60f-4797-9708-31efbd37d887",
   "metadata": {
    "scrolled": true
   },
   "outputs": [],
   "source": [
    "datos"
   ]
  },
  {
   "cell_type": "code",
   "execution_count": null,
   "id": "2eb7e3bc-3ee1-41e7-b417-a533290a686d",
   "metadata": {},
   "outputs": [],
   "source": [
    "tipos_cambio = datos['bmx']['series'][0]['datos']"
   ]
  },
  {
   "cell_type": "code",
   "execution_count": null,
   "id": "d380f020-6ff6-4558-9433-94275f535cf2",
   "metadata": {
    "scrolled": true
   },
   "outputs": [],
   "source": [
    "type(tipos_cambio)"
   ]
  },
  {
   "cell_type": "code",
   "execution_count": null,
   "id": "7214886d-210a-46e2-b0e0-7f94626cbcde",
   "metadata": {},
   "outputs": [],
   "source": [
    "tipos_cambio[-1]"
   ]
  },
  {
   "cell_type": "code",
   "execution_count": null,
   "id": "4ea04934-a6f1-4671-93a9-6b79612a6594",
   "metadata": {},
   "outputs": [],
   "source": [
    "df_mxnusd = pd.DataFrame.from_dict(tipos_cambio)\n",
    "df_mxnusd.info()"
   ]
  },
  {
   "cell_type": "code",
   "execution_count": null,
   "id": "ed0ea114-b298-43e2-aa57-08cbd2e94faf",
   "metadata": {},
   "outputs": [],
   "source": [
    "df_mxnusd['fecha'] = pd.to_datetime(df_mxnusd['fecha'], format='%d/%m/%Y')\n",
    "df_mxnusd['dato'] = df_mxnusd['dato'].astype(float)\n",
    "df_mxnusd.set_index('fecha', inplace=True)\n",
    "df_mxnusd"
   ]
  },
  {
   "cell_type": "code",
   "execution_count": null,
   "id": "63ab653a-9816-4d60-a62e-b829db5634b9",
   "metadata": {},
   "outputs": [],
   "source": [
    "# Filtrar rango de tiempo\n",
    "df_filtro24 = df_mxnusd.loc['2024-01-01':]\n",
    "\n",
    "# Crear figura\n",
    "fig, ax = plt.subplots(figsize=(12, 6))\n",
    "\n",
    "# Graficar datos\n",
    "ax.plot(df_filtro24.index, df_filtro24['dato'], label='Precio MXN/USD')\n",
    "\n",
    "# Personalizar etiquetas, titulos y leyendas\n",
    "ax.set_xlabel('Fecha')\n",
    "ax.set_ylabel('Tipo de Cambio (MXN/USD)')\n",
    "ax.set_title('Evolución del Tipo de Cambio MXN/USD 2024')\n",
    "ax.legend();"
   ]
  },
  {
   "cell_type": "markdown",
   "id": "4b7e6416-be1e-47d8-9a11-3ecac572cb8f",
   "metadata": {
    "jp-MarkdownHeadingCollapsed": true
   },
   "source": [
    "# <font color='#2B17B0'>5. API DE BINANCE</font>\n"
   ]
  },
  {
   "cell_type": "markdown",
   "id": "16fa426b-247d-4fcb-bd55-90b558efa9bc",
   "metadata": {
    "jp-MarkdownHeadingCollapsed": true
   },
   "source": [
    "## <font color='#2B17B0'>5.1 Documentación API Binance</font>"
   ]
  },
  {
   "cell_type": "markdown",
   "id": "e1a795e8-a4a7-48ed-bebe-01d94236636a",
   "metadata": {},
   "source": [
    "* _Repositorio Ofical API Binance:_<br>\n",
    "        https://github.com/binance<br>\n",
    "* _Documentación Conector Binance:_<br>\n",
    "        https://github.com/binance/binance-connector-python<br>\n",
    "* _Specs del API:_ <br>\n",
    "        https://binance-docs.github.io/apidocs/spot/en/#introduction<br>"
   ]
  },
  {
   "cell_type": "markdown",
   "id": "c37cf759-8b0b-411d-9286-8645efe5f1ed",
   "metadata": {
    "jp-MarkdownHeadingCollapsed": true
   },
   "source": [
    "## <font color='#2B17B0'>5.2 Introducción al API de Binance</font>\n"
   ]
  },
  {
   "cell_type": "markdown",
   "id": "fadb5b4e-70fa-438f-a6cc-b57514fc0dd9",
   "metadata": {
    "jp-MarkdownHeadingCollapsed": true
   },
   "source": [
    "### <font color='#2B17B0'>¿Qué es la API de Binance?</font>"
   ]
  },
  {
   "cell_type": "markdown",
   "id": "6a4cc26c-eef7-4d7b-aa1f-721350da9e89",
   "metadata": {},
   "source": [
    " Es una herramienta que permite a los usuarios interactuar programáticamente con la plataforma de Binance. <br><br>\n",
    " Entre otras funcionalidades con el API de Binance podemos:\n",
    " * Obtener datos de mercado en tiempo real e históricos.\n",
    " * Consultar balances de cuentas.\n",
    " * Gestionar órdenes de compra y venta.\n",
    " * Automatizar estrategias de trading."
   ]
  },
  {
   "cell_type": "markdown",
   "id": "949b526f-8ed4-464c-9214-b09af43e9237",
   "metadata": {},
   "source": [
    "#### ¿Por qué utilizar la API de Binance?"
   ]
  },
  {
   "cell_type": "markdown",
   "id": "9b3286cd-90a8-4597-8de0-ca0848102bff",
   "metadata": {},
   "source": [
    "* _**Automatización**_: Permite ejecutar estrategias de trading sin intervención manual.\n",
    "* _**Velocidad**_: Acceso en tiempo real a los datos del mercado.\n",
    "* _**Escalabilidad**_: Ideal para desarrolladores y empresas que necesitan manejar grandes volúmenes de operaciones."
   ]
  },
  {
   "cell_type": "markdown",
   "id": "32a12f3e-e3e6-486c-b8c1-4c28d95c78f1",
   "metadata": {
    "jp-MarkdownHeadingCollapsed": true
   },
   "source": [
    "### <font color='#2B17B0'>Tipos de API que ofrece Binance</font>"
   ]
  },
  {
   "cell_type": "markdown",
   "id": "8297acd9-abe1-4119-b443-d55e9887eb3d",
   "metadata": {},
   "source": [
    "Binance proporciona tres tipos principales de API:\n",
    "1. *__API__*:  La base para todas las versiones de API.\n",
    "1. *__API REST__*: Para realizar solicitudes puntuales como obtener datos de mercado o ejecutar órdenes.\n",
    "1. *__API WebSocket__*: Para recibir actualizaciones en tiempo real como precios, datos de libro de órdenes, y transacciones."
   ]
  },
  {
   "cell_type": "markdown",
   "id": "1fff2f63-429b-4e57-b498-0114a331ffbb",
   "metadata": {
    "jp-MarkdownHeadingCollapsed": true
   },
   "source": [
    "## <font color='#2B17B0'>5.3 Configuración de la cuenta de Binance y generación de claves API</font>\n"
   ]
  },
  {
   "cell_type": "markdown",
   "id": "6e3fba41-51fd-4a30-9459-3c3c2b9b89fe",
   "metadata": {},
   "source": [
    "### <font color='#2B17B0'>Crear una cuenta en Binance</font>\n"
   ]
  },
  {
   "cell_type": "markdown",
   "id": "cdc3d6fe-7ccc-44c7-889f-1e8e075e679f",
   "metadata": {
    "jp-MarkdownHeadingCollapsed": true
   },
   "source": [
    "### <font color='#2B17B0'>Crear llaves API</font>\n"
   ]
  },
  {
   "cell_type": "markdown",
   "id": "a78bb438-0fbf-4bc4-899b-9c43a8cf1c5e",
   "metadata": {},
   "source": [
    "1. Ir a `Usuario / Cuenta / Administración API`.\n",
    "2. Seleccionar `Crear API`, `Generadas por sistema`.\n",
    "3. Asignar un nombre a la llave de acceso.\n",
    "4. Copiar en un lugar seguro la llave del API y la llave secreta.\n",
    "   * > _NOTA:  Esta es la única oportunidad que tendrás para ver la llave secreta del API_\n",
    "6. Editar permisos de accesos por IP:\n",
    "   * Seleccionar \"Accesso restringido por IP\"\n",
    "5. Editar restricciones.\n",
    "   * Habilitar lectura.\n",
    "   * Habilitar trading spot y de margen.\n"
   ]
  },
  {
   "cell_type": "markdown",
   "id": "e9cb98c7-bd91-492f-8cbd-95efb8157c9d",
   "metadata": {
    "jp-MarkdownHeadingCollapsed": true
   },
   "source": [
    "### <font color='#2B17B0'>Gestión segura de las claves API</font>"
   ]
  },
  {
   "cell_type": "markdown",
   "id": "b9dc67a3-0393-4a74-9845-c9861b396a1b",
   "metadata": {},
   "source": [
    "1. Evitar exponer las claves en el código utilizando variables de entorno."
   ]
  },
  {
   "cell_type": "markdown",
   "id": "768a27e6-6c56-4737-b72e-4b5d668b7b37",
   "metadata": {},
   "source": [
    "#### <font color='#2B17B0'>Mac OS<font>"
   ]
  },
  {
   "cell_type": "markdown",
   "id": "8ed658f6-26ca-42c0-a5a3-7a56e2eae74c",
   "metadata": {},
   "source": [
    "<img src=\"https://dl.dropboxusercontent.com/scl/fi/nvnvms4ytfmp4diktlwtq/teminal_zshrc.png?rlkey=az71x2f3irl7mjiczrjh6easw&st=cjkt3ebh&dl=0\" alt=\"terminal\" width=\"50%\">\n",
    "<img src=\"https://dl.dropboxusercontent.com/scl/fi/m3kgamzj9izjak70gg46o/nano_api_keys.png?rlkey=ol50y0gnnrnea31izmgvlswd1&st=4l2qvwy8&dl=0\" alt=\"terminal\" width=\"50%\">"
   ]
  },
  {
   "cell_type": "markdown",
   "id": "8c629223-235b-4d85-a521-f69253689443",
   "metadata": {},
   "source": [
    "#### <font color='#2B17B0'>Win<font>"
   ]
  },
  {
   "cell_type": "markdown",
   "id": "49af1b69-3c87-4820-99d8-d0c810182f51",
   "metadata": {},
   "source": [
    "<img src=\"https://dl.dropboxusercontent.com/scl/fi/kiujieyu3a2vxxeu6nz1n/Settings.png?rlkey=12uiigst3jf0bfm7htb6it1dg&dl=0\" alt=\"terminal\" width=\"50%\">\n",
    "<img src=\"https://dl.dropboxusercontent.com/scl/fi/bv5390xfhrhmeo0ukaml6/env_var.png?rlkey=ulilw1x999n83bwp9vjt45nq8&st=jvci022a&dl=0\" alt=\"terminal\" width=\"50%\">\n",
    "<img src=\"https://dl.dropboxusercontent.com/scl/fi/38epuj1v6gkma0te91lmh/binance_public.png?rlkey=x15mg4e08s5nzxmo69vf8uwaf&st=y18e4w0j&dl=0\" alt=\"terminal\" width=\"50%\">\n",
    "<img src=\"https://dl.dropboxusercontent.com/scl/fi/nr9wq90znbokhs6f2izbt/binance_private.png?rlkey=gqgmj5knkm03oawvsbzzc2mjo&st=bi8jkg8x&dl=0\" alt=\"terminal\" width=\"50%\">"
   ]
  },
  {
   "cell_type": "markdown",
   "id": "1ed73b07-0a98-4193-bb7a-059a0bcafaf9",
   "metadata": {},
   "source": [
    "#### <font color='#2B17B0'>Archivo .env<font>"
   ]
  },
  {
   "cell_type": "markdown",
   "id": "1da1debc-6c29-480d-9653-26b6a7bc1524",
   "metadata": {},
   "source": [
    "* Quizá este método sea el más flexible para accesar y editar las variables.  El problema es que está a simple vista de cualquier persona con acceso a tu computadora.\n",
    "* Instalar la siguiente librería:\n",
    "  `pip3 install python-dotenv`\n",
    "* hacer un archivo .env sy definir las variables siguiendo el siguiente formato:\n",
    "  `nombre_de_la_variable=valor`\n",
    "* El archivo .env deberá de estar guardado en el mismo directorio donde se encuentra tu archivo principal de Python o Jupyter Notebook."
   ]
  },
  {
   "cell_type": "markdown",
   "id": "cd231fe0-bdc4-439a-bb2a-d596053d894c",
   "metadata": {
    "jp-MarkdownHeadingCollapsed": true
   },
   "source": [
    "## <font color='#2B17B0'>5.4 Binance UI (User Interface)</font>"
   ]
  },
  {
   "cell_type": "markdown",
   "id": "aab613a4-1b1d-43c8-8f57-d1f9a7d54e2c",
   "metadata": {},
   "source": [
    "* Wallet / Spot\n",
    "* Trade / Spot\n",
    "* Libro de posturas\n",
    "* Que es un par\n",
    "* Compras de mercado\n",
    "* Compras limitadas\n",
    "* Compras Stop Limit"
   ]
  },
  {
   "cell_type": "markdown",
   "id": "0f54538e-a5d6-4bb4-a39c-42f2d0e2b8b0",
   "metadata": {
    "jp-MarkdownHeadingCollapsed": true
   },
   "source": [
    "## <font color='#2B17B0'>5.5 Conexión a API Binance</font>\n"
   ]
  },
  {
   "cell_type": "markdown",
   "id": "260dab3c-51ce-4bf3-bf7e-ad30835d33fb",
   "metadata": {},
   "source": [
    "https://binance-docs.github.io/apidocs/spot/en/#introduction"
   ]
  },
  {
   "cell_type": "markdown",
   "id": "f1c38afc-a218-4532-92ce-5fc123fa4302",
   "metadata": {},
   "source": [
    "### <font color='#2B17B0'>Conexión a API Binance directa</font>\n"
   ]
  },
  {
   "cell_type": "markdown",
   "id": "712223b6-1400-4fb8-8bdc-9c409d4286e9",
   "metadata": {},
   "source": [
    "#### <font color='#2B17B0'>Crear estructura del link al endpoint de Binance</font>\n"
   ]
  },
  {
   "cell_type": "code",
   "execution_count": null,
   "id": "3faaa9ff-2bfb-4967-851e-8a1a1d7ef74b",
   "metadata": {},
   "outputs": [],
   "source": [
    "url_binance = 'https://api.binance.com'"
   ]
  },
  {
   "cell_type": "code",
   "execution_count": null,
   "id": "c2ccd9cd-3b67-483e-b49a-6d25e2c426d2",
   "metadata": {},
   "outputs": [],
   "source": [
    "url_ping = f'{url_binance}/api/v3/ping'\n",
    "print(url_ping)"
   ]
  },
  {
   "cell_type": "markdown",
   "id": "ceb3ade5-16d2-4b62-a21e-c1a38c32c4ed",
   "metadata": {},
   "source": [
    "#### <font color='#2B17B0'>Ping al servidor de Binance</font>\n"
   ]
  },
  {
   "cell_type": "code",
   "execution_count": null,
   "id": "db379c16-67a8-4a68-8fcd-f7e1d0d70543",
   "metadata": {},
   "outputs": [],
   "source": [
    "parametros = None\n",
    "ping_binance = requests.get(url_ping, params=parametros)\n",
    "print(ping_binance)"
   ]
  },
  {
   "cell_type": "code",
   "execution_count": null,
   "id": "613c54de-be9f-4003-9a36-646238411ca1",
   "metadata": {},
   "outputs": [],
   "source": [
    "ping_binance.json()"
   ]
  },
  {
   "cell_type": "markdown",
   "id": "1137e945-d7ff-4fe4-956b-8c999b8342f9",
   "metadata": {},
   "source": [
    "#### <font color='#2B17B0'>Hora del servidor de Binance</font>\n"
   ]
  },
  {
   "cell_type": "code",
   "execution_count": null,
   "id": "0754ab17-26ce-48fc-8566-5e8ca76462c3",
   "metadata": {},
   "outputs": [],
   "source": [
    "url_tiempo = f'{url_binance}/api/v3/time'\n",
    "parametros = None\n",
    "\n",
    "tiempo = requests.get(url_tiempo, params=parametros).json()\n",
    "print(tiempo)"
   ]
  },
  {
   "cell_type": "markdown",
   "id": "ce4b1fcd-54e8-4022-96da-2cd3aeaa5830",
   "metadata": {},
   "source": [
    "#### <font color='#2B17B0'>Ver información del Exchange de Binance</font>\n"
   ]
  },
  {
   "cell_type": "code",
   "execution_count": null,
   "id": "91b00bdf-b5f2-4359-9467-7f73a4fa8944",
   "metadata": {},
   "outputs": [],
   "source": [
    "url_exchange = f'{url_binance}/api/v3/exchangeInfo'\n",
    "parametros = {\n",
    "}\n",
    "\n",
    "info_xchg = requests.get(url_exchange, params=parametros).json()"
   ]
  },
  {
   "cell_type": "code",
   "execution_count": null,
   "id": "c27c6081-1583-4281-8465-4e4e2c9dc0ea",
   "metadata": {
    "scrolled": true
   },
   "outputs": [],
   "source": [
    "info_xchg"
   ]
  },
  {
   "cell_type": "code",
   "execution_count": null,
   "id": "db8f4497-b910-41f0-89cb-4ac28fe48d75",
   "metadata": {},
   "outputs": [],
   "source": [
    "url_exchange = f'{url_binance}/api/v3/exchangeInfo'\n",
    "parametros = {\n",
    "    'symbol': 'BTCUSDT'\n",
    "}\n",
    "\n",
    "info_btc = requests.get(url_exchange, params=parametros).json()"
   ]
  },
  {
   "cell_type": "code",
   "execution_count": null,
   "id": "c20baae9-031a-4512-a054-93ace6f8ef65",
   "metadata": {
    "scrolled": true
   },
   "outputs": [],
   "source": [
    "info_btc"
   ]
  },
  {
   "cell_type": "code",
   "execution_count": null,
   "id": "ffed5d46-b112-494d-9be8-ee9878f3a8d4",
   "metadata": {},
   "outputs": [],
   "source": [
    "url_exchange = f'{url_binance}/api/v3/exchangeInfo'\n",
    "parametros = {\n",
    "    'symbol': 'DOGEUSDT'\n",
    "}\n",
    "\n",
    "info_doge = requests.get(url_exchange, params=parametros).json()"
   ]
  },
  {
   "cell_type": "code",
   "execution_count": null,
   "id": "cf9ef297-136b-4eca-acf9-27623b0b3920",
   "metadata": {
    "scrolled": true
   },
   "outputs": [],
   "source": [
    "info_doge"
   ]
  },
  {
   "cell_type": "markdown",
   "id": "c461f0bd-df1e-497a-a423-fd43cd082312",
   "metadata": {},
   "source": [
    "#### <font color='#2B17B0'>Últimas transacciones de BTCUSDT</font>\n"
   ]
  },
  {
   "cell_type": "code",
   "execution_count": null,
   "id": "387a2979-04ba-4f4f-a019-f80e4cba0c37",
   "metadata": {
    "scrolled": true
   },
   "outputs": [],
   "source": [
    "url_precios = f'{url_binance}/api/v3/trades'\n",
    "params = {\n",
    "    'symbol': 'BTCUSDT',\n",
    "    'limit': 10\n",
    "}\n",
    "\n",
    "ultimos_precios_btc = requests.get(url_precios, params=params).json()\n",
    "ultimos_precios_btc"
   ]
  },
  {
   "cell_type": "markdown",
   "id": "ac6d598f-c002-423b-8774-d3ee21372d05",
   "metadata": {},
   "source": [
    "#### <font color='#2B17B0'>Open-High-Low-Close BTCUSDT</font>\n"
   ]
  },
  {
   "cell_type": "code",
   "execution_count": null,
   "id": "017aff31-7d22-4c93-9f67-2fd412931863",
   "metadata": {},
   "outputs": [],
   "source": [
    "url_klines = f'{url_binance}/api/v3/klines'\n",
    "params = {\n",
    "    'symbol': 'BTCUSDT',\n",
    "    'interval': '1m'\n",
    "}\n",
    "\n",
    "klines_btc = requests.get(url_klines, params=params).json()"
   ]
  },
  {
   "cell_type": "code",
   "execution_count": null,
   "id": "355e354d-bf00-487a-bb69-0069277f5adc",
   "metadata": {
    "scrolled": true
   },
   "outputs": [],
   "source": [
    "klines_btc"
   ]
  },
  {
   "cell_type": "markdown",
   "id": "62977e8f-ca0f-495b-a03a-8138aa443df6",
   "metadata": {},
   "source": [
    "#### <font color='#2B17B0'>Gráfica Velas Japonesas</font>\n"
   ]
  },
  {
   "cell_type": "markdown",
   "id": "62b45322-46b7-43d9-adc1-989ca33edd0f",
   "metadata": {},
   "source": [
    "https://github.com/matplotlib/mplfinance<br>\n",
    "`pip3 install --upgrade mplfinance`<br>\n",
    "`pip3 install mplfinance`"
   ]
  },
  {
   "cell_type": "code",
   "execution_count": null,
   "id": "5488f1c7-8a0a-4ae1-a1ce-ba054bcf726b",
   "metadata": {},
   "outputs": [],
   "source": [
    "columnas_velas = {\n",
    "    0: 'Date',\n",
    "    1: 'Open',\n",
    "    2: 'High',\n",
    "    3: 'Low',\n",
    "    4: 'Close',\n",
    "    5: 'Volume'    \n",
    "}\n",
    "\n",
    "df = pd.DataFrame(klines_btc)\n",
    "df.rename(columns=columnas_velas, inplace=True)\n",
    "df.drop(columns=df.columns[6:], inplace=True)\n",
    "df.info()"
   ]
  },
  {
   "cell_type": "code",
   "execution_count": null,
   "id": "3eed0056-d700-43ed-b43e-4f712ce81b33",
   "metadata": {},
   "outputs": [],
   "source": [
    "lista_columnas_numericas = ['Open', 'High', 'Low', 'Close', 'Volume']\n",
    "df[lista_columnas_numericas] = df[lista_columnas_numericas].apply(pd.to_numeric)\n",
    "df['Date'] = df['Date'].apply(pd.to_datetime, unit='ms')\n",
    "df.set_index('Date', inplace=True)"
   ]
  },
  {
   "cell_type": "code",
   "execution_count": null,
   "id": "4160f9b4-1483-42fc-bf46-745e30f7f18f",
   "metadata": {},
   "outputs": [],
   "source": [
    "df"
   ]
  },
  {
   "cell_type": "code",
   "execution_count": null,
   "id": "e8cbfbfd-e674-47fb-aa1b-802f940e0cf5",
   "metadata": {},
   "outputs": [],
   "source": [
    "import mplfinance as mpf"
   ]
  },
  {
   "cell_type": "code",
   "execution_count": null,
   "id": "7fce635d-b74e-42a0-b14c-da70bdc9c2d8",
   "metadata": {},
   "outputs": [],
   "source": [
    "mpf.plot(df, type='candle', style='yahoo')"
   ]
  },
  {
   "cell_type": "code",
   "execution_count": null,
   "id": "046d48d0-957e-4315-867a-171af2224235",
   "metadata": {},
   "outputs": [],
   "source": [
    "mpf.plot(df.loc['2024-11-26 11:00:00':], type='candle', style='yahoo', figsize=(14,5), title='Gráfica Velas Japonesas')"
   ]
  },
  {
   "cell_type": "code",
   "execution_count": null,
   "id": "313cc8a9-e7d6-48db-8911-6e619ccf2877",
   "metadata": {},
   "outputs": [],
   "source": [
    "mpf.plot(df.loc['2024-11-26 11:00:00':], type='candle', style='yahoo', figsize=(14,5), title='Gráfica Velas Japonesas', mav=(7,12))"
   ]
  },
  {
   "cell_type": "code",
   "execution_count": null,
   "id": "b800b28d-48b4-4295-8946-538659239a05",
   "metadata": {},
   "outputs": [],
   "source": [
    "df"
   ]
  },
  {
   "cell_type": "markdown",
   "id": "8bb52ae6-08ab-4291-8b2d-fa1e1ba2dd14",
   "metadata": {},
   "source": [
    "#### <font color='#2B17B0'>Profundidad y liquidez de BTCUSDT</font>\n"
   ]
  },
  {
   "cell_type": "markdown",
   "id": "c02f5507-81b2-4ea1-ae8f-61c392383b4a",
   "metadata": {},
   "source": [
    "* Profundidad del mercado:\n",
    "  * Es la habilidad del mercado de absorver grandes cantidades de ordenes sin afectar significativamente el precio del activo.\n",
    "  * En otras palabras, representa el volumen de las ordenes de compra y de venta a diferentes precios en el libro de ordenes.\n",
    "* Liquidez:\n",
    "  * Es la facilidad para comprar o vender sin afectar significativamente el precio del activo.\n",
    "* Diferencia entre Profundidad y Liquidez:\n",
    "  * La profundidad del mercado se enfoca en la distribución y volumnenes de ordenes a través de diferentes precios.\n",
    "  * La liquidez se enfoca en la habilidad de realizar la transacción rapidamente a un precio justo.\n",
    "* Puede haber profundiad del mercado sin haber liquidez.\n",
    "* Puede haber liquidez sin profundidad del mercado."
   ]
  },
  {
   "cell_type": "code",
   "execution_count": null,
   "id": "a302708d-cbe5-4772-b530-16458f430a0f",
   "metadata": {},
   "outputs": [],
   "source": [
    "url_libro = f'{url_binance}/api/v3/depth'\n",
    "params_libro = {\n",
    "    'symbol': 'BTCUSDT',\n",
    "    'limit': 10\n",
    "}\n",
    "\n",
    "libro = requests.get(url_libro, params=params_libro).json()\n",
    "libro"
   ]
  },
  {
   "cell_type": "code",
   "execution_count": null,
   "id": "dd0d90cd-2210-48e9-8aa2-9b7931eb81f8",
   "metadata": {},
   "outputs": [],
   "source": []
  },
  {
   "cell_type": "markdown",
   "id": "eccd577e-edab-4e96-9ec2-e69f8d5b5292",
   "metadata": {},
   "source": [
    "### <font color='#2B17B0'>Conexión a API Binance a través del conector de Python</font>\n"
   ]
  },
  {
   "cell_type": "markdown",
   "id": "e3798a5d-6f32-4b8b-a464-a6a89376174e",
   "metadata": {},
   "source": [
    "Python https://github.com/binance/binance-connector-python"
   ]
  },
  {
   "cell_type": "markdown",
   "id": "7f6b5005-c7dd-4c6a-b5bd-ac7fe0d4a339",
   "metadata": {},
   "source": [
    "#### <font color='#2B17B0'>Importar librerías<font>"
   ]
  },
  {
   "cell_type": "code",
   "execution_count": null,
   "id": "fe192ca1-a159-4773-911c-42d7b13da4b7",
   "metadata": {},
   "outputs": [],
   "source": [
    "from dotenv import load_dotenv\n",
    "import os # para accesar a las variables\n",
    "from binance.spot import Spot\n",
    "\n",
    "load_dotenv() # Cargar las variables del archivo .env"
   ]
  },
  {
   "cell_type": "markdown",
   "id": "ec0dbe8f-7bdc-46c1-8f63-4b7b7b897f12",
   "metadata": {},
   "source": [
    "#### <font color='#2B17B0'>Verificar variables<font>"
   ]
  },
  {
   "cell_type": "code",
   "execution_count": null,
   "id": "8ba3fabd-b537-4731-ba5f-de4e40d69915",
   "metadata": {},
   "outputs": [],
   "source": [
    "llave_publica = os.getenv('BINANCE_PUBLIC')\n",
    "llave_privada = os.getenv('BINANCE_PRIVATE')"
   ]
  },
  {
   "cell_type": "code",
   "execution_count": null,
   "id": "6476e705-10ca-4988-aa10-fb2a2c5d3689",
   "metadata": {},
   "outputs": [],
   "source": [
    "print(llave_publica)"
   ]
  },
  {
   "cell_type": "code",
   "execution_count": null,
   "id": "110fda67-18c8-4564-8118-2b64dc33bf2b",
   "metadata": {
    "scrolled": true
   },
   "outputs": [],
   "source": [
    "print(llave_privada)"
   ]
  },
  {
   "cell_type": "markdown",
   "id": "4c6d7735-e321-4796-855b-5ea3083bb926",
   "metadata": {},
   "source": [
    "#### <font color='#2B17B0'>En mi caso, voy a utilizar las variables reales<font>"
   ]
  },
  {
   "cell_type": "code",
   "execution_count": null,
   "id": "15fedecf-517f-45c8-b902-60052179ad31",
   "metadata": {},
   "outputs": [],
   "source": [
    "llave_publica = os.getenv('BINANCE_PUBLIC_EGADE')\n",
    "llave_privada = os.getenv('BINANCE_PRIVATE_EGADE')"
   ]
  },
  {
   "cell_type": "markdown",
   "id": "493ab4a5-d276-4147-8eb7-3ece9b462627",
   "metadata": {},
   "source": [
    "#### <font color='#2B17B0'>Crear el cliente a Binance<font>"
   ]
  },
  {
   "cell_type": "code",
   "execution_count": null,
   "id": "7bb4d2fb-b94a-4f78-8a63-552be5a50255",
   "metadata": {},
   "outputs": [],
   "source": [
    "cliente = Spot(llave_publica, llave_privada)"
   ]
  },
  {
   "cell_type": "markdown",
   "id": "b852b184-51d4-4094-872a-cab9ef652ce3",
   "metadata": {},
   "source": [
    "#### <font color='#2B17B0'>Ping al servidor<font>"
   ]
  },
  {
   "cell_type": "code",
   "execution_count": null,
   "id": "ddce83f1-f671-472c-9a99-12d198594eb5",
   "metadata": {},
   "outputs": [],
   "source": [
    "cliente.ping()"
   ]
  },
  {
   "cell_type": "markdown",
   "id": "9231d51c-6f0f-4e27-983f-bae11476e5fa",
   "metadata": {},
   "source": [
    "#### <font color='#2B17B0'>Tiempo del servidor (en milisegundos)<font>"
   ]
  },
  {
   "cell_type": "code",
   "execution_count": null,
   "id": "423aca7d-b75e-4faf-a5c6-abf723b1c573",
   "metadata": {
    "scrolled": true
   },
   "outputs": [],
   "source": [
    "cliente.time()"
   ]
  },
  {
   "cell_type": "markdown",
   "id": "65b72004-0e68-48bb-ad32-ac4c1cd67fd5",
   "metadata": {},
   "source": [
    "#### <font color='#2B17B0'>Información de la cuenta<font>"
   ]
  },
  {
   "cell_type": "code",
   "execution_count": null,
   "id": "c8741848-841f-4188-91c0-cb33d7849b42",
   "metadata": {
    "scrolled": true
   },
   "outputs": [],
   "source": [
    "info_cuenta = cliente.account()\n",
    "info_cuenta"
   ]
  },
  {
   "cell_type": "markdown",
   "id": "25388bba-7444-4245-9067-851ba40e8bae",
   "metadata": {},
   "source": [
    "#### <font color='#2B17B0'>O-H-L-C<font>"
   ]
  },
  {
   "cell_type": "code",
   "execution_count": null,
   "id": "e1debc09-99c3-4566-a17d-aa152ca11e72",
   "metadata": {
    "scrolled": true
   },
   "outputs": [],
   "source": [
    "cliente.klines('BTCUSDT', '1m', )"
   ]
  },
  {
   "cell_type": "markdown",
   "id": "8d10ef56-e22e-4bce-8f45-1144119cd130",
   "metadata": {},
   "source": [
    "#### <font color='#2B17B0'>O-H-L-C últimas 24 hrs<font>"
   ]
  },
  {
   "cell_type": "code",
   "execution_count": null,
   "id": "0e22c968-a6e1-4ba6-a4a1-6c32e6517457",
   "metadata": {},
   "outputs": [],
   "source": [
    "cliente.ticker_24hr('BTCUSDT')"
   ]
  },
  {
   "cell_type": "markdown",
   "id": "06b8a41d-b964-423c-9b48-421fcac10bc8",
   "metadata": {},
   "source": [
    "#### <font color='#2B17B0'>Comprar Criptomoneda a mercado<font>"
   ]
  },
  {
   "cell_type": "code",
   "execution_count": null,
   "id": "294ea363-bda9-471c-b283-fe63159bdfe5",
   "metadata": {},
   "outputs": [],
   "source": [
    "params = {\n",
    "    'symbol': 'DOGEUSDT',\n",
    "    'side': 'BUY',\n",
    "    'type': 'MARKET',\n",
    "    'quantity': 10,\n",
    "}\n",
    "\n",
    "comprar_doge = cliente.new_order(**params)"
   ]
  },
  {
   "cell_type": "code",
   "execution_count": null,
   "id": "c2648c33-c22e-4905-be03-81deb6857466",
   "metadata": {
    "scrolled": true
   },
   "outputs": [],
   "source": [
    "comprar_dodge"
   ]
  },
  {
   "cell_type": "code",
   "execution_count": null,
   "id": "0484121e-5626-40b8-ab07-cd7ac6325b13",
   "metadata": {},
   "outputs": [],
   "source": [
    "info_cuenta = cliente.account()\n",
    "lista_criptos = info_cuenta['balances']\n",
    "for cripto in lista_criptos:\n",
    "    if cripto['asset'] == 'DOGE':\n",
    "        print(cripto)"
   ]
  },
  {
   "cell_type": "markdown",
   "id": "f75ef854-ae76-4342-bea2-1ab8abad3287",
   "metadata": {},
   "source": [
    "#### <font color='#2B17B0'>Vender Criptomoneda a mercado<font>"
   ]
  },
  {
   "cell_type": "code",
   "execution_count": null,
   "id": "03af9016-6c1f-4ad2-9173-1783b4bc6f61",
   "metadata": {},
   "outputs": [],
   "source": [
    "params = {\n",
    "    'symbol': 'DOGEUSDT',\n",
    "    'side': 'SELL',\n",
    "    'type': 'MARKET',\n",
    "    'quantity': 10,\n",
    "}\n",
    "\n",
    "vender_doge = cliente.new_order(**params)"
   ]
  },
  {
   "cell_type": "code",
   "execution_count": null,
   "id": "a0645193-6cf7-4ee5-ac37-810c07506787",
   "metadata": {},
   "outputs": [],
   "source": [
    "info_cuenta = cliente.account()\n",
    "lista_criptos = info_cuenta['balances']\n",
    "for cripto in lista_criptos:\n",
    "    if cripto['asset'] == 'DOGE':\n",
    "        print(cripto)"
   ]
  },
  {
   "cell_type": "code",
   "execution_count": null,
   "id": "1e4d2494-8726-4aaa-b0ee-395ab52a1578",
   "metadata": {},
   "outputs": [],
   "source": [
    "info_cuenta = cliente.account()\n",
    "lista_criptos = info_cuenta['balances']\n",
    "for cripto in lista_criptos:\n",
    "    if cripto['asset'] == 'USDT':\n",
    "        print(cripto)"
   ]
  },
  {
   "cell_type": "code",
   "execution_count": null,
   "id": "d7355114-362f-4c2c-9639-c6b5d88671e8",
   "metadata": {},
   "outputs": [],
   "source": [
    "info_cuenta = cliente.account()\n",
    "lista_criptos = info_cuenta['balances']\n",
    "for cripto in lista_criptos:\n",
    "    if cripto['asset'] == 'USDT':\n",
    "        print(cripto)"
   ]
  },
  {
   "cell_type": "code",
   "execution_count": null,
   "id": "d16f12b3-1469-4c64-a9a2-2a78ccd07da4",
   "metadata": {},
   "outputs": [],
   "source": []
  },
  {
   "cell_type": "markdown",
   "id": "5c25387b-244c-4453-8e8a-d5c9d3297867",
   "metadata": {},
   "source": [
    "### <font color='#2B17B0'>Conexión a cuenta de pruebas de TestNet de Binance</font>\n"
   ]
  },
  {
   "cell_type": "markdown",
   "id": "5472bece-cc50-4351-b8a7-27c5d6cf517e",
   "metadata": {},
   "source": [
    "> *\"Proporciona un entorno de prueba que simula el comportamiento del mercado real, permitiendo realizar operaciones sin riesgo financiero.\"* Binance"
   ]
  },
  {
   "cell_type": "markdown",
   "id": "6d740d5a-21ed-40f0-ac16-188840eecb20",
   "metadata": {},
   "source": [
    "#### <font color='#2B17B0'>Autentificación a través de GitHub</font>\n"
   ]
  },
  {
   "cell_type": "markdown",
   "id": "c672b62b-f6bc-4d4b-b7fb-f4253404fd42",
   "metadata": {},
   "source": [
    "Entrar a la página 'https://testnet.binance.vision/' y seleccionar 'Log In with GitHub'"
   ]
  },
  {
   "cell_type": "markdown",
   "id": "c9036de7-f0a4-409e-abd1-984f763949d3",
   "metadata": {},
   "source": [
    "<img src=\"https://dl.dropboxusercontent.com/scl/fi/daoh6547avki2kxg1bfce/aut_binance_github.png?rlkey=0s6x7oohs1ff0mld62vtr5tvp&dl=0\" alt=\"autorizar_binance\" width=\"50%\">\n",
    "<img src=\"https://dl.dropboxusercontent.com/scl/fi/bx015thf4mbo2tfafik6h/seleccionar_generar_llaves.png?rlkey=xy79sieky6wslndz0kv6yjhhq&dl=0\" alt=\"seleccionar\" width=\"80%\">\n",
    "<img src=\"https://dl.dropboxusercontent.com/scl/fi/n1jmgaqa10hkm2qxlzwrk/generar_llaves.png?rlkey=z97hj9ozo9o4775ow31f6n7t0&st=dyhgmpsw&dl=0\" alt=\"generar llaves\" width=\"80%\">\n",
    "<img src=\"https://dl.dropboxusercontent.com/scl/fi/0enmk34t39sqwvfc8ecos/llaves_unica_vez.png?rlkey=dskdhskjfuwb6cldxagd6vh7o&dl=0\" alt=\"unica vez\" width=\"80%\">\n",
    "<img src=\"https://dl.dropboxusercontent.com/scl/fi/1xnvobqurf7mc7nv85zri/confirmar_llavez.png?rlkey=wg77wmc5ah1unzlu4mpql6dgb&dl=0\" alt=\"confirmar\" width=\"80%\">\n"
   ]
  },
  {
   "cell_type": "code",
   "execution_count": null,
   "id": "4db1f19e-7a6f-4a2f-b18d-e55fe76bb003",
   "metadata": {},
   "outputs": [],
   "source": [
    "testnet_llave_publica = os.getenv('TESTNET_PUBLIC')\n",
    "testnet_llave_secreta = os.getenv('TESTNET_PRIVATE')"
   ]
  },
  {
   "cell_type": "code",
   "execution_count": null,
   "id": "ad0881a3-2596-47f3-b517-79afc706ea09",
   "metadata": {},
   "outputs": [],
   "source": [
    "testnet_llave_publica"
   ]
  },
  {
   "cell_type": "markdown",
   "id": "7be217c1-6c12-44b8-bf77-338d12b22b0f",
   "metadata": {},
   "source": [
    "#### <font color='red'>IMPORTANTE</font>\n"
   ]
  },
  {
   "cell_type": "markdown",
   "id": "ac54cf69-0b89-4e86-820d-0e90560a7b3a",
   "metadata": {},
   "source": [
    "Cuando usamos el cliente del ambiente de producción de Biance, por default su dirección URL apunta al entorno de producción.  Para utilizar Testnet, debemos de sobreescribir la propiedad API_URL con la de Testnet \"https://testnet.binance.vision/api\"."
   ]
  },
  {
   "cell_type": "markdown",
   "id": "08449be0-93f2-4dde-b5a9-de1d2730da8d",
   "metadata": {},
   "source": [
    "#### <font color='#2B17B0'>Crear Cliente de Testnet</font>\n"
   ]
  },
  {
   "cell_type": "code",
   "execution_count": null,
   "id": "5a8b4fd0-db97-46a7-8ce6-57c039ba12d8",
   "metadata": {},
   "outputs": [],
   "source": [
    "url_testnet = \"https://testnet.binance.vision/api\""
   ]
  },
  {
   "cell_type": "code",
   "execution_count": null,
   "id": "f6b76418-b4ed-41ef-a433-905e23522940",
   "metadata": {},
   "outputs": [],
   "source": [
    "from binance.client import Client\n",
    "\n",
    "cliente_testnet = Client(testnet_llave_publica, testnet_llave_secreta, testnet=True)\n",
    "cliente_testnet.API_URL = url_testnet "
   ]
  },
  {
   "cell_type": "markdown",
   "id": "e3cb4acc-ddd8-4ce8-9b3d-819e32adc095",
   "metadata": {},
   "source": [
    "##### <font color='#2B17B0'>Ver detalle de la cuenta</font>\n"
   ]
  },
  {
   "cell_type": "code",
   "execution_count": null,
   "id": "87da8b2a-c5ea-40d8-aa53-19a3acdc1da1",
   "metadata": {
    "scrolled": true
   },
   "outputs": [],
   "source": [
    "cliente_testnet.get_account()"
   ]
  },
  {
   "cell_type": "code",
   "execution_count": null,
   "id": "f323027b-4112-4c0d-829d-46acf6b73851",
   "metadata": {},
   "outputs": [],
   "source": []
  },
  {
   "cell_type": "markdown",
   "id": "7465c792-75f2-4810-9be9-d4d44fabd758",
   "metadata": {},
   "source": [
    "##### <font color='#2B17B0'>Cambiar ETH a BTC</font>\n"
   ]
  },
  {
   "cell_type": "code",
   "execution_count": null,
   "id": "8dad77c6-f5c0-4f85-86c0-ea04baf6bff8",
   "metadata": {},
   "outputs": [],
   "source": [
    "# Defenir parámetros de la órden:\n",
    "par = 'ETHBTC'\n",
    "usdt_a_utilizar = 1\n",
    "\n",
    "orden = cliente_testnet.create_order(\n",
    "    symbol=par,\n",
    "    side=cliente_testnet.SIDE_BUY,  # Comprar\n",
    "    type=cliente_testnet.ORDER_TYPE_MARKET,  # Orden de mercado\n",
    "    quoteOrderQty=usdt_a_utilizar\n",
    ")"
   ]
  },
  {
   "cell_type": "code",
   "execution_count": null,
   "id": "b1bcdbec-3fdd-4ac0-b427-0c8d445e272e",
   "metadata": {
    "scrolled": true
   },
   "outputs": [],
   "source": [
    "print(orden)"
   ]
  },
  {
   "cell_type": "code",
   "execution_count": null,
   "id": "4f1830f7-3e4c-4c6b-bc7e-fc6a6902ccce",
   "metadata": {
    "scrolled": true
   },
   "outputs": [],
   "source": [
    "cliente_testnet.get_account()"
   ]
  },
  {
   "cell_type": "code",
   "execution_count": null,
   "id": "a74c342f-ff27-4b72-a968-e8258e492bb3",
   "metadata": {},
   "outputs": [],
   "source": [
    "cliente_testnet.get_ticker('BTCUSDT')"
   ]
  },
  {
   "cell_type": "code",
   "execution_count": null,
   "id": "49982bbb-8bbc-48be-a39f-3c04de99617c",
   "metadata": {},
   "outputs": [],
   "source": []
  },
  {
   "cell_type": "markdown",
   "id": "756919d9-fc1a-405c-ad4c-29847a9b9d0d",
   "metadata": {},
   "source": [
    "### <font color='#2B17B0'>Conexión a Binance WebSocket</font>\n"
   ]
  },
  {
   "cell_type": "markdown",
   "id": "7f0fb85e-33ee-4fa2-bb32-c0b9eb8258f6",
   "metadata": {},
   "source": [
    "#### <font color='#2B17B0'>WebSocket</font>\n"
   ]
  },
  {
   "cell_type": "markdown",
   "id": "a714f6f4-4028-46e7-859c-d303a19184da",
   "metadata": {},
   "source": [
    "Un WebSocket es una tecnología que permite establecer una comunicación continua y bidireccional entre un cliente (como un navegador web) y un servidor.  Los WebSockets abren un canal de comunicación persistente donde ambos lados pueden enviar y recibir mensajes en tiempo real."
   ]
  },
  {
   "cell_type": "markdown",
   "id": "1b7f5c75-cbdc-4f34-af30-5870637114a9",
   "metadata": {},
   "source": [
    "#### <font color='#2B17B0'>Funcionamiento</font>\n"
   ]
  },
  {
   "cell_type": "markdown",
   "id": "05a7e3c4-ef37-45eb-b625-132efa5b2db6",
   "metadata": {},
   "source": [
    "1. El cliente inicia una solicitud HTTP normal al servidor con un encabezado especial indicando que desea abrir un WebSocket.\n",
    "2. Si el servidor acepta, la conexión cambia de HTTP a WebSocket y se establece el canal bidireccional.\n",
    "3. Una vez conectado, el cliente y el servidor pueden enviarse mensajes entre sí sin necesidad de reiniciar la conexión.\n",
    "4. Esto se mantiene activo mientras dure la sesión, reduciendo la latencia (tiempo de espera) en las comunicaciones.\n",
    "5. Cuando el cliente o el servidor terminan la sesión, la conexión se cierra, liberando recursos."
   ]
  },
  {
   "cell_type": "markdown",
   "id": "656443ec-88f0-4e72-a8f6-d8405ee524c0",
   "metadata": {},
   "source": [
    "#### <font color='#2B17B0'>Siempre los usamos sin darnos cuenta</font>\n"
   ]
  },
  {
   "cell_type": "markdown",
   "id": "4b601fcc-64e7-447d-a414-cf8050b18b05",
   "metadata": {},
   "source": [
    "Muchísimos servicios que consumimos en línea utilizan WebSocket:\n",
    "* WhatsApp Versión Web\n",
    "* Slack\n",
    "* Binance\n",
    "* Uber\n",
    "* Google Maps\n",
    "* YouTube Live (Chats en vivo)\n",
    "* Google Docs"
   ]
  },
  {
   "cell_type": "markdown",
   "id": "e8b63113-2e84-405f-a1f1-1d3d1604d25a",
   "metadata": {},
   "source": [
    "#### <font color='#2B17B0'>Instalar librería websocket</font>\n"
   ]
  },
  {
   "cell_type": "markdown",
   "id": "b6242e6c-3cd7-4331-9fb1-967d696d492c",
   "metadata": {},
   "source": [
    "`pip3 install websocket-client`"
   ]
  },
  {
   "cell_type": "markdown",
   "id": "ebaea1a2-b373-447a-a927-70777236b103",
   "metadata": {},
   "source": [
    "#### <font color='#2B17B0'>Binance WebSocket</font>\n"
   ]
  },
  {
   "cell_type": "markdown",
   "id": "fc963cbc-18be-4aa1-b562-06e773575ccf",
   "metadata": {},
   "source": [
    "https://binance-docs.github.io/apidocs/spot/en/#websocket-market-streams"
   ]
  },
  {
   "cell_type": "code",
   "execution_count": null,
   "id": "011ea7bb-40d2-4633-9add-fb228ec818b1",
   "metadata": {},
   "outputs": [],
   "source": [
    "import websocket"
   ]
  },
  {
   "cell_type": "code",
   "execution_count": null,
   "id": "8b9ab53f-ba4b-4587-9031-00cc5b20646f",
   "metadata": {},
   "outputs": [],
   "source": [
    "def recibir_mensaje(ws, mensaje):\n",
    "    datos = json.loads(mensaje)  # Cambiar \"message\" a \"mensaje\" (el parámetro correcto)\n",
    "    print(f\"Datos recibidos: {datos}\")\n",
    "\n",
    "def conexion_establecida(ws):\n",
    "    print(\"Conexión establecida con Binance\")\n",
    "\n",
    "def conexion_cerrada(ws, close_status_code, close_msg):\n",
    "    print(\"Conexión cerrada\")"
   ]
  },
  {
   "cell_type": "code",
   "execution_count": null,
   "id": "6fb1e668-4702-41b1-848c-4ee9d4f2b292",
   "metadata": {
    "scrolled": true
   },
   "outputs": [],
   "source": [
    "symbol = \"BTCUSDT\"\n",
    "websocket_endpoint = \"wss://stream.binance.com:9443\"\n",
    "websocket_trades = f'{websocket_endpoint}/ws/{symbol.lower()}@trade'\n",
    "\n",
    "ws = websocket.WebSocketApp(\n",
    "    websocket_trades,\n",
    "    on_message=recibir_mensaje,  # Asignar función para manejar mensajes\n",
    "    on_open=conexion_establecida,  # Asignar función para conexión abierta\n",
    "    on_close=conexion_cerrada      # Asignar función para cierre de conexión\n",
    ")\n",
    "\n",
    "# Ejecutar el WebSocket\n",
    "ws.run_forever()"
   ]
  },
  {
   "cell_type": "markdown",
   "id": "455aef20-aa5a-4ab8-a386-486e465bc1df",
   "metadata": {
    "jp-MarkdownHeadingCollapsed": true
   },
   "source": [
    "# <font color='#2B17B0'>6. BOT1: BOT ALGORITMICO DE MOMENTUM</font>\n"
   ]
  },
  {
   "cell_type": "markdown",
   "id": "eb50b311-646e-4f05-8277-6c46e21e5c57",
   "metadata": {},
   "source": [
    "* **Objetivo**:\n",
    "  1. **Automatizar desiciones de compra/venta:**  Remplazar el monitoreo manual de los movimientos del mercado y la ejecución manual de las órdenes de compra y venta, por un algoritmo que identifique oportunidades de compra/venta basado en MOMENTUM del precio/\n",
    "  2. **Capturar tendencias del precio en el corto plazo:**  Apoyarnos en el principio de MOMENTUM que se basa en que las tendencias alzistas en los precios continuan y generan señales de compra y la caida de precios en una tendencia bajista, generan señales de venta.\n",
    "* **Retos**:\n",
    "  1. **Ruido del mercado:**  Pequeñas variaciones en la fluctuación del precio pueden generar señales falsas de compra/venta, lo que nos puede llevar a realizar trades de más y/o una acumulación de perdidas.\n",
    "     * **_Solución:_** Intoducir un **Treshold** de tiempo para filtrar estos movimientos.\n",
    "* **IMPORTANTE**: _TOMAR EN CUENTA QUE NO HEMOS HECHO NINGUN BACKTESTING DE ESTA ESTRATEGIA. Y SI ALGO NO SALE BIEN, TENER LA CAPACIDAD DE PARA EL ALGORITMO Y CANCELAR POSICIONES DIRECTAMENTE EN BINANCE_"
   ]
  },
  {
   "cell_type": "code",
   "execution_count": null,
   "id": "1128ecf3-0dd5-4f08-8df5-99ef713d09d2",
   "metadata": {},
   "outputs": [],
   "source": [
    "from binance.client import Client\n",
    "cliente_mercado = Client(llave_publica, llave_privada)"
   ]
  },
  {
   "cell_type": "code",
   "execution_count": null,
   "id": "f5b7389c-f098-474b-b74b-2258da0fed8f",
   "metadata": {},
   "outputs": [],
   "source": [
    "par = 'DOGEUSDT'\n",
    "velas = cliente_mercado.get_klines(symbol=par, interval=Client.KLINE_INTERVAL_1MINUTE, limit=60)\n",
    "precios_cierre = [float(vela[4]) for vela in velas]  # Índice 4 es el precio de cierre\n",
    "desviacion = np.std(precios_cierre)\n"
   ]
  },
  {
   "cell_type": "code",
   "execution_count": null,
   "id": "2ce82bfd-219a-4f80-8d4b-d7446ac2d3bc",
   "metadata": {},
   "outputs": [],
   "source": [
    "desviacion"
   ]
  },
  {
   "cell_type": "code",
   "execution_count": null,
   "id": "90d8e292-b426-4237-9f47-f51b159354bc",
   "metadata": {},
   "outputs": [],
   "source": []
  }
 ],
 "metadata": {
  "kernelspec": {
   "display_name": "Python 3 (ipykernel)",
   "language": "python",
   "name": "python3"
  },
  "language_info": {
   "codemirror_mode": {
    "name": "ipython",
    "version": 3
   },
   "file_extension": ".py",
   "mimetype": "text/x-python",
   "name": "python",
   "nbconvert_exporter": "python",
   "pygments_lexer": "ipython3",
   "version": "3.12.7"
  }
 },
 "nbformat": 4,
 "nbformat_minor": 5
}
